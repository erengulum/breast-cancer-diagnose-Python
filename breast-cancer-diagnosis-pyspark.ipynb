{
  "nbformat": 4,
  "nbformat_minor": 0,
  "metadata": {
    "colab": {
      "name": "21627265_Eren_Gulum_hw3",
      "provenance": [],
      "collapsed_sections": [],
      "toc_visible": true
    },
    "kernelspec": {
      "name": "python3",
      "display_name": "Python 3"
    }
  },
  "cells": [
    {
      "cell_type": "markdown",
      "metadata": {
        "id": "7YOAq0B_Hlfq",
        "colab_type": "text"
      },
      "source": [
        "# Machine Learning with Spark (Assignment 3)\n",
        "\n",
        "#### Student no : 21627265\n",
        "#### Student name : Eren Gülüm\n"
      ]
    },
    {
      "cell_type": "markdown",
      "metadata": {
        "id": "kON_mrNiH3MZ",
        "colab_type": "text"
      },
      "source": [
        "## Table of Content\n",
        "\n",
        "[Purpose](#purpose)   \n",
        "[Data Understanding](#data_understanding)   \n",
        "[Data Preparation](#data_preparation)   \n",
        "[Modeling for Clustering](#clusteringmodel)  \n",
        "[Clustering results](#clustering)    \n",
        "[Modeling for Classification](#classificationmodel)  \n",
        "[Evaluation](#evaluation)  \n",
        "[References](#references)   \n"
      ]
    },
    {
      "cell_type": "markdown",
      "metadata": {
        "id": "lNHkBsz0H_jq",
        "colab_type": "text"
      },
      "source": [
        "## Purpose <a class=\"anchor\" id=\"purpose\"></a>\n",
        "\n",
        "Our goal in this assignment is to build different machine learning models in the Spark environment using the data set we have.We will try to achieve different and successful models using breast cancer related dataset with machine learning models."
      ]
    },
    {
      "cell_type": "code",
      "metadata": {
        "id": "EaRzOvDajpkF",
        "colab_type": "code",
        "colab": {}
      },
      "source": [
        "!apt-get install openjdk-8-jdk-headless -qq > /dev/null\n",
        "!wget -q https://downloads.apache.org/spark/spark-2.4.5/spark-2.4.5-bin-hadoop2.7.tgz\n",
        "!tar xf spark-2.4.5-bin-hadoop2.7.tgz\n",
        "!pip install -q findspark"
      ],
      "execution_count": 0,
      "outputs": []
    },
    {
      "cell_type": "code",
      "metadata": {
        "id": "QnvUONmejx7J",
        "colab_type": "code",
        "colab": {}
      },
      "source": [
        "import os\n",
        "os.environ[\"JAVA_HOME\"] = \"/usr/lib/jvm/java-8-openjdk-amd64\"\n",
        "os.environ[\"SPARK_HOME\"] = \"/content/spark-2.4.5-bin-hadoop2.7\""
      ],
      "execution_count": 0,
      "outputs": []
    },
    {
      "cell_type": "code",
      "metadata": {
        "id": "eCmynPfhj94U",
        "colab_type": "code",
        "colab": {}
      },
      "source": [
        "import findspark\n",
        "findspark.init()\n",
        "from pyspark.sql import SparkSession\n",
        "spark = SparkSession.builder.master(\"local[*]\").getOrCreate()"
      ],
      "execution_count": 0,
      "outputs": []
    },
    {
      "cell_type": "code",
      "metadata": {
        "id": "ycuX3ePLkAT6",
        "colab_type": "code",
        "colab": {}
      },
      "source": [
        "import numpy as np\n",
        "import pandas as pd\n",
        "import matplotlib.pyplot as plt\n",
        "from pyspark import SparkContext"
      ],
      "execution_count": 0,
      "outputs": []
    },
    {
      "cell_type": "markdown",
      "metadata": {
        "id": "61li6byPC6gS",
        "colab_type": "text"
      },
      "source": [
        "## Data Understanding<a class=\"anchor\" id=\"data_understanding\"></a>\n",
        "In this section, we will try to understand the dataset we have. For this, we will perform different operations on the dataset.\n",
        "We will store the data set in the Spark DataFrame"
      ]
    },
    {
      "cell_type": "code",
      "metadata": {
        "id": "NO0UFUONkEhn",
        "colab_type": "code",
        "colab": {}
      },
      "source": [
        "data = spark.read.csv(\"data.csv\", header=True, inferSchema=True)"
      ],
      "execution_count": 0,
      "outputs": []
    },
    {
      "cell_type": "code",
      "metadata": {
        "id": "6y35UrOjlLZ4",
        "colab_type": "code",
        "outputId": "f3915a1d-100b-4f55-d399-e6dcaa6bddc6",
        "colab": {
          "base_uri": "https://localhost:8080/",
          "height": 272
        }
      },
      "source": [
        "print(\"Data Sample: \")\n",
        "print(data.show(5))\n",
        "print(\"Size of the DataFrame:\", (data.count(), len(data.columns)))\n"
      ],
      "execution_count": 6,
      "outputs": [
        {
          "output_type": "stream",
          "text": [
            "Data Sample: \n",
            "+--------+---------+-----------+------------+--------------+---------+---------------+----------------+--------------+-------------------+-------------+----------------------+---------+----------+------------+-------+-------------+--------------+------------+-----------------+-----------+--------------------+------------+-------------+---------------+----------+----------------+-----------------+---------------+--------------------+--------------+-----------------------+----+\n",
            "|      id|diagnosis|radius_mean|texture_mean|perimeter_mean|area_mean|smoothness_mean|compactness_mean|concavity_mean|concave points_mean|symmetry_mean|fractal_dimension_mean|radius_se|texture_se|perimeter_se|area_se|smoothness_se|compactness_se|concavity_se|concave points_se|symmetry_se|fractal_dimension_se|radius_worst|texture_worst|perimeter_worst|area_worst|smoothness_worst|compactness_worst|concavity_worst|concave points_worst|symmetry_worst|fractal_dimension_worst|_c32|\n",
            "+--------+---------+-----------+------------+--------------+---------+---------------+----------------+--------------+-------------------+-------------+----------------------+---------+----------+------------+-------+-------------+--------------+------------+-----------------+-----------+--------------------+------------+-------------+---------------+----------+----------------+-----------------+---------------+--------------------+--------------+-----------------------+----+\n",
            "|  842302|        M|      17.99|       10.38|         122.8|   1001.0|         0.1184|          0.2776|        0.3001|             0.1471|       0.2419|               0.07871|    1.095|    0.9053|       8.589|  153.4|     0.006399|       0.04904|     0.05373|          0.01587|    0.03003|            0.006193|       25.38|        17.33|          184.6|    2019.0|          0.1622|           0.6656|         0.7119|              0.2654|        0.4601|                 0.1189|null|\n",
            "|  842517|        M|      20.57|       17.77|         132.9|   1326.0|        0.08474|         0.07864|        0.0869|            0.07017|       0.1812|               0.05667|   0.5435|    0.7339|       3.398|  74.08|     0.005225|       0.01308|      0.0186|           0.0134|    0.01389|            0.003532|       24.99|        23.41|          158.8|    1956.0|          0.1238|           0.1866|         0.2416|               0.186|         0.275|                0.08902|null|\n",
            "|84300903|        M|      19.69|       21.25|         130.0|   1203.0|         0.1096|          0.1599|        0.1974|             0.1279|       0.2069|               0.05999|   0.7456|    0.7869|       4.585|  94.03|      0.00615|       0.04006|     0.03832|          0.02058|     0.0225|            0.004571|       23.57|        25.53|          152.5|    1709.0|          0.1444|           0.4245|         0.4504|               0.243|        0.3613|                0.08758|null|\n",
            "|84348301|        M|      11.42|       20.38|         77.58|    386.1|         0.1425|          0.2839|        0.2414|             0.1052|       0.2597|               0.09744|   0.4956|     1.156|       3.445|  27.23|      0.00911|       0.07458|     0.05661|          0.01867|    0.05963|            0.009208|       14.91|         26.5|          98.87|     567.7|          0.2098|           0.8663|         0.6869|              0.2575|        0.6638|                  0.173|null|\n",
            "|84358402|        M|      20.29|       14.34|         135.1|   1297.0|         0.1003|          0.1328|         0.198|             0.1043|       0.1809|               0.05883|   0.7572|    0.7813|       5.438|  94.44|      0.01149|       0.02461|     0.05688|          0.01885|    0.01756|            0.005115|       22.54|        16.67|          152.2|    1575.0|          0.1374|            0.205|            0.4|              0.1625|        0.2364|                0.07678|null|\n",
            "+--------+---------+-----------+------------+--------------+---------+---------------+----------------+--------------+-------------------+-------------+----------------------+---------+----------+------------+-------+-------------+--------------+------------+-----------------+-----------+--------------------+------------+-------------+---------------+----------+----------------+-----------------+---------------+--------------------+--------------+-----------------------+----+\n",
            "only showing top 5 rows\n",
            "\n",
            "None\n",
            "Size of the DataFrame: (569, 33)\n"
          ],
          "name": "stdout"
        }
      ]
    },
    {
      "cell_type": "code",
      "metadata": {
        "id": "LsM3-VaPlNst",
        "colab_type": "code",
        "outputId": "f9d7a360-a69d-4291-bd7c-b54e7802ab13",
        "colab": {
          "base_uri": "https://localhost:8080/",
          "height": 238
        }
      },
      "source": [
        "print(\"Summary statistics of numerical columns\")\n",
        "print(data.describe().show())"
      ],
      "execution_count": 7,
      "outputs": [
        {
          "output_type": "stream",
          "text": [
            "Summary statistics of numerical columns\n",
            "+-------+--------------------+---------+------------------+-----------------+-----------------+-----------------+--------------------+-------------------+-------------------+--------------------+--------------------+----------------------+------------------+------------------+------------------+-----------------+--------------------+--------------------+--------------------+--------------------+--------------------+--------------------+------------------+------------------+------------------+-----------------+--------------------+-------------------+-------------------+--------------------+-------------------+-----------------------+----+\n",
            "|summary|                  id|diagnosis|       radius_mean|     texture_mean|   perimeter_mean|        area_mean|     smoothness_mean|   compactness_mean|     concavity_mean| concave points_mean|       symmetry_mean|fractal_dimension_mean|         radius_se|        texture_se|      perimeter_se|          area_se|       smoothness_se|      compactness_se|        concavity_se|   concave points_se|         symmetry_se|fractal_dimension_se|      radius_worst|     texture_worst|   perimeter_worst|       area_worst|    smoothness_worst|  compactness_worst|    concavity_worst|concave points_worst|     symmetry_worst|fractal_dimension_worst|_c32|\n",
            "+-------+--------------------+---------+------------------+-----------------+-----------------+-----------------+--------------------+-------------------+-------------------+--------------------+--------------------+----------------------+------------------+------------------+------------------+-----------------+--------------------+--------------------+--------------------+--------------------+--------------------+--------------------+------------------+------------------+------------------+-----------------+--------------------+-------------------+-------------------+--------------------+-------------------+-----------------------+----+\n",
            "|  count|                 569|      569|               569|              569|              569|              569|                 569|                569|                569|                 569|                 569|                   569|               569|               569|               569|              569|                 569|                 569|                 569|                 569|                 569|                 569|               569|               569|               569|              569|                 569|                569|                569|                 569|                569|                    569|   0|\n",
            "|   mean|3.0371831432337433E7|     null|14.127291739894563|19.28964850615117|91.96903339191566|654.8891036906857|   0.096360281195079|0.10434098418277686|0.08879931581722322|0.048919145869947236|   0.181161862917399|   0.06279760984182778|0.4051720562390161|1.2168534270650269|2.8660592267135288|40.33707908611603|0.007040978910369071|0.025478138840070306|0.031893716344463946|0.011796137082601056|0.020542298769771532|0.003794903866432...|16.269189806678394|25.677223198594014| 107.2612126537786|880.5831282952545| 0.13236859402460469|0.25426504393673144|0.27218848330404205| 0.11460622319859404|0.29007557117750454|    0.08394581722319855|null|\n",
            "| stddev|1.2502058561222367E8|     null|3.5240488262120793|4.301035768166948| 24.2989810387549|351.9141291816529|0.014064128137673616| 0.0528127579325122|0.07971980870789354| 0.03880284485915361|0.027414281336035712|  0.007060362795084457|0.2773127329861039|0.5516483926172022|2.0218545540421085|45.49100551613178|0.003002517943839066| 0.01790817932567739|0.030186060322988394|0.006170285174046867|0.008266371528798402|0.002646070967089195| 4.833241580469323|6.1462576230383235|33.602542269036356|569.3569926699494|0.022832429404835465|  0.157336488913742|0.20862428060813235| 0.06573234119594208|0.06186746753751871|    0.01806126734889399|null|\n",
            "|    min|                8670|        B|             6.981|             9.71|            43.79|            143.5|             0.05263|            0.01938|                0.0|                 0.0|               0.106|               0.04996|            0.1115|            0.3602|             0.757|            6.802|            0.001713|            0.002252|                 0.0|                 0.0|            0.007882|            8.948E-4|              7.93|             12.02|             50.41|            185.2|             0.07117|            0.02729|                0.0|                 0.0|             0.1565|                0.05504|null|\n",
            "|    max|           911320502|        M|             28.11|            39.28|            188.5|           2501.0|              0.1634|             0.3454|             0.4268|              0.2012|               0.304|               0.09744|             2.873|             4.885|             21.98|            542.2|             0.03113|              0.1354|               0.396|             0.05279|             0.07895|             0.02984|             36.04|             49.54|             251.2|           4254.0|              0.2226|              1.058|              1.252|               0.291|             0.6638|                 0.2075|null|\n",
            "+-------+--------------------+---------+------------------+-----------------+-----------------+-----------------+--------------------+-------------------+-------------------+--------------------+--------------------+----------------------+------------------+------------------+------------------+-----------------+--------------------+--------------------+--------------------+--------------------+--------------------+--------------------+------------------+------------------+------------------+-----------------+--------------------+-------------------+-------------------+--------------------+-------------------+-----------------------+----+\n",
            "\n",
            "None\n"
          ],
          "name": "stdout"
        }
      ]
    },
    {
      "cell_type": "markdown",
      "metadata": {
        "id": "Bj4ARiRRDVQ3",
        "colab_type": "text"
      },
      "source": [
        "## Data Preparation<a class=\"anchor\" id=\"data_preparation\"></a>"
      ]
    },
    {
      "cell_type": "code",
      "metadata": {
        "id": "pSyt0JkPmFcX",
        "colab_type": "code",
        "outputId": "0f1f4f3a-6f33-4479-d5a2-639720ba3612",
        "colab": {
          "base_uri": "https://localhost:8080/",
          "height": 222
        }
      },
      "source": [
        "data = data.drop('_c32') #This column is totally null column so we have to delete it\n",
        "data = data.drop('id') # ID column isn't something useful for machine learning models\n",
        "data.show(5)"
      ],
      "execution_count": 8,
      "outputs": [
        {
          "output_type": "stream",
          "text": [
            "+---------+-----------+------------+--------------+---------+---------------+----------------+--------------+-------------------+-------------+----------------------+---------+----------+------------+-------+-------------+--------------+------------+-----------------+-----------+--------------------+------------+-------------+---------------+----------+----------------+-----------------+---------------+--------------------+--------------+-----------------------+\n",
            "|diagnosis|radius_mean|texture_mean|perimeter_mean|area_mean|smoothness_mean|compactness_mean|concavity_mean|concave points_mean|symmetry_mean|fractal_dimension_mean|radius_se|texture_se|perimeter_se|area_se|smoothness_se|compactness_se|concavity_se|concave points_se|symmetry_se|fractal_dimension_se|radius_worst|texture_worst|perimeter_worst|area_worst|smoothness_worst|compactness_worst|concavity_worst|concave points_worst|symmetry_worst|fractal_dimension_worst|\n",
            "+---------+-----------+------------+--------------+---------+---------------+----------------+--------------+-------------------+-------------+----------------------+---------+----------+------------+-------+-------------+--------------+------------+-----------------+-----------+--------------------+------------+-------------+---------------+----------+----------------+-----------------+---------------+--------------------+--------------+-----------------------+\n",
            "|        M|      17.99|       10.38|         122.8|   1001.0|         0.1184|          0.2776|        0.3001|             0.1471|       0.2419|               0.07871|    1.095|    0.9053|       8.589|  153.4|     0.006399|       0.04904|     0.05373|          0.01587|    0.03003|            0.006193|       25.38|        17.33|          184.6|    2019.0|          0.1622|           0.6656|         0.7119|              0.2654|        0.4601|                 0.1189|\n",
            "|        M|      20.57|       17.77|         132.9|   1326.0|        0.08474|         0.07864|        0.0869|            0.07017|       0.1812|               0.05667|   0.5435|    0.7339|       3.398|  74.08|     0.005225|       0.01308|      0.0186|           0.0134|    0.01389|            0.003532|       24.99|        23.41|          158.8|    1956.0|          0.1238|           0.1866|         0.2416|               0.186|         0.275|                0.08902|\n",
            "|        M|      19.69|       21.25|         130.0|   1203.0|         0.1096|          0.1599|        0.1974|             0.1279|       0.2069|               0.05999|   0.7456|    0.7869|       4.585|  94.03|      0.00615|       0.04006|     0.03832|          0.02058|     0.0225|            0.004571|       23.57|        25.53|          152.5|    1709.0|          0.1444|           0.4245|         0.4504|               0.243|        0.3613|                0.08758|\n",
            "|        M|      11.42|       20.38|         77.58|    386.1|         0.1425|          0.2839|        0.2414|             0.1052|       0.2597|               0.09744|   0.4956|     1.156|       3.445|  27.23|      0.00911|       0.07458|     0.05661|          0.01867|    0.05963|            0.009208|       14.91|         26.5|          98.87|     567.7|          0.2098|           0.8663|         0.6869|              0.2575|        0.6638|                  0.173|\n",
            "|        M|      20.29|       14.34|         135.1|   1297.0|         0.1003|          0.1328|         0.198|             0.1043|       0.1809|               0.05883|   0.7572|    0.7813|       5.438|  94.44|      0.01149|       0.02461|     0.05688|          0.01885|    0.01756|            0.005115|       22.54|        16.67|          152.2|    1575.0|          0.1374|            0.205|            0.4|              0.1625|        0.2364|                0.07678|\n",
            "+---------+-----------+------------+--------------+---------+---------------+----------------+--------------+-------------------+-------------+----------------------+---------+----------+------------+-------+-------------+--------------+------------+-----------------+-----------+--------------------+------------+-------------+---------------+----------+----------------+-----------------+---------------+--------------------+--------------+-----------------------+\n",
            "only showing top 5 rows\n",
            "\n"
          ],
          "name": "stdout"
        }
      ]
    },
    {
      "cell_type": "markdown",
      "metadata": {
        "id": "59hazJOXLDM7",
        "colab_type": "text"
      },
      "source": [
        "Diagnosis column has categorical values.\n",
        "Most of the machine learning models can't operate on categorical data so we have to convert them into numerical\n"
      ]
    },
    {
      "cell_type": "code",
      "metadata": {
        "id": "X1my1ys9qTtT",
        "colab_type": "code",
        "colab": {}
      },
      "source": [
        "from pyspark.ml.feature import StringIndexer\n",
        "indexer = StringIndexer(inputCol=\"diagnosis\", outputCol=\"diagnosis_encoded\")\n",
        "data = indexer.fit(data).transform(data)"
      ],
      "execution_count": 0,
      "outputs": []
    },
    {
      "cell_type": "code",
      "metadata": {
        "id": "iDjVT29Sqr2m",
        "colab_type": "code",
        "outputId": "6f327f05-d8a1-4805-ce0a-a313d682824a",
        "colab": {
          "base_uri": "https://localhost:8080/",
          "height": 222
        }
      },
      "source": [
        "data = data.drop('diagnosis')  #Now we have diagnosis_encoded column(last column).So we don't need diagnosis column anymore\n",
        "data.show(5) #M=1 B=0"
      ],
      "execution_count": 10,
      "outputs": [
        {
          "output_type": "stream",
          "text": [
            "+-----------+------------+--------------+---------+---------------+----------------+--------------+-------------------+-------------+----------------------+---------+----------+------------+-------+-------------+--------------+------------+-----------------+-----------+--------------------+------------+-------------+---------------+----------+----------------+-----------------+---------------+--------------------+--------------+-----------------------+-----------------+\n",
            "|radius_mean|texture_mean|perimeter_mean|area_mean|smoothness_mean|compactness_mean|concavity_mean|concave points_mean|symmetry_mean|fractal_dimension_mean|radius_se|texture_se|perimeter_se|area_se|smoothness_se|compactness_se|concavity_se|concave points_se|symmetry_se|fractal_dimension_se|radius_worst|texture_worst|perimeter_worst|area_worst|smoothness_worst|compactness_worst|concavity_worst|concave points_worst|symmetry_worst|fractal_dimension_worst|diagnosis_encoded|\n",
            "+-----------+------------+--------------+---------+---------------+----------------+--------------+-------------------+-------------+----------------------+---------+----------+------------+-------+-------------+--------------+------------+-----------------+-----------+--------------------+------------+-------------+---------------+----------+----------------+-----------------+---------------+--------------------+--------------+-----------------------+-----------------+\n",
            "|      17.99|       10.38|         122.8|   1001.0|         0.1184|          0.2776|        0.3001|             0.1471|       0.2419|               0.07871|    1.095|    0.9053|       8.589|  153.4|     0.006399|       0.04904|     0.05373|          0.01587|    0.03003|            0.006193|       25.38|        17.33|          184.6|    2019.0|          0.1622|           0.6656|         0.7119|              0.2654|        0.4601|                 0.1189|              1.0|\n",
            "|      20.57|       17.77|         132.9|   1326.0|        0.08474|         0.07864|        0.0869|            0.07017|       0.1812|               0.05667|   0.5435|    0.7339|       3.398|  74.08|     0.005225|       0.01308|      0.0186|           0.0134|    0.01389|            0.003532|       24.99|        23.41|          158.8|    1956.0|          0.1238|           0.1866|         0.2416|               0.186|         0.275|                0.08902|              1.0|\n",
            "|      19.69|       21.25|         130.0|   1203.0|         0.1096|          0.1599|        0.1974|             0.1279|       0.2069|               0.05999|   0.7456|    0.7869|       4.585|  94.03|      0.00615|       0.04006|     0.03832|          0.02058|     0.0225|            0.004571|       23.57|        25.53|          152.5|    1709.0|          0.1444|           0.4245|         0.4504|               0.243|        0.3613|                0.08758|              1.0|\n",
            "|      11.42|       20.38|         77.58|    386.1|         0.1425|          0.2839|        0.2414|             0.1052|       0.2597|               0.09744|   0.4956|     1.156|       3.445|  27.23|      0.00911|       0.07458|     0.05661|          0.01867|    0.05963|            0.009208|       14.91|         26.5|          98.87|     567.7|          0.2098|           0.8663|         0.6869|              0.2575|        0.6638|                  0.173|              1.0|\n",
            "|      20.29|       14.34|         135.1|   1297.0|         0.1003|          0.1328|         0.198|             0.1043|       0.1809|               0.05883|   0.7572|    0.7813|       5.438|  94.44|      0.01149|       0.02461|     0.05688|          0.01885|    0.01756|            0.005115|       22.54|        16.67|          152.2|    1575.0|          0.1374|            0.205|            0.4|              0.1625|        0.2364|                0.07678|              1.0|\n",
            "+-----------+------------+--------------+---------+---------------+----------------+--------------+-------------------+-------------+----------------------+---------+----------+------------+-------+-------------+--------------+------------+-----------------+-----------+--------------------+------------+-------------+---------------+----------+----------------+-----------------+---------------+--------------------+--------------+-----------------------+-----------------+\n",
            "only showing top 5 rows\n",
            "\n"
          ],
          "name": "stdout"
        }
      ]
    },
    {
      "cell_type": "markdown",
      "metadata": {
        "id": "NwQdmv9GKnYV",
        "colab_type": "text"
      },
      "source": [
        "In this part, we will check the whole dataframe to know if is there any null value on the columns\n"
      ]
    },
    {
      "cell_type": "code",
      "metadata": {
        "id": "IT5Kwqzgq2YR",
        "colab_type": "code",
        "outputId": "96625921-72ad-4e64-d437-37514f3dd384",
        "colab": {
          "base_uri": "https://localhost:8080/",
          "height": 154
        }
      },
      "source": [
        "from pyspark.sql.functions import col,sum\n",
        "print(\"Number of NaN values per column: \")\n",
        "data.select(*(sum(col(c).isNull().cast(\"int\")).alias(c) for c in data.columns)).show()\n",
        "#There is no column with the null value"
      ],
      "execution_count": 11,
      "outputs": [
        {
          "output_type": "stream",
          "text": [
            "Number of NaN values per column: \n",
            "+-----------+------------+--------------+---------+---------------+----------------+--------------+-------------------+-------------+----------------------+---------+----------+------------+-------+-------------+--------------+------------+-----------------+-----------+--------------------+------------+-------------+---------------+----------+----------------+-----------------+---------------+--------------------+--------------+-----------------------+-----------------+\n",
            "|radius_mean|texture_mean|perimeter_mean|area_mean|smoothness_mean|compactness_mean|concavity_mean|concave points_mean|symmetry_mean|fractal_dimension_mean|radius_se|texture_se|perimeter_se|area_se|smoothness_se|compactness_se|concavity_se|concave points_se|symmetry_se|fractal_dimension_se|radius_worst|texture_worst|perimeter_worst|area_worst|smoothness_worst|compactness_worst|concavity_worst|concave points_worst|symmetry_worst|fractal_dimension_worst|diagnosis_encoded|\n",
            "+-----------+------------+--------------+---------+---------------+----------------+--------------+-------------------+-------------+----------------------+---------+----------+------------+-------+-------------+--------------+------------+-----------------+-----------+--------------------+------------+-------------+---------------+----------+----------------+-----------------+---------------+--------------------+--------------+-----------------------+-----------------+\n",
            "|          0|           0|             0|        0|              0|               0|             0|                  0|            0|                     0|        0|         0|           0|      0|            0|             0|           0|                0|          0|                   0|           0|            0|              0|         0|               0|                0|              0|                   0|             0|                      0|                0|\n",
            "+-----------+------------+--------------+---------+---------------+----------------+--------------+-------------------+-------------+----------------------+---------+----------+------------+-------+-------------+--------------+------------+-----------------+-----------+--------------------+------------+-------------+---------------+----------+----------------+-----------------+---------------+--------------------+--------------+-----------------------+-----------------+\n",
            "\n"
          ],
          "name": "stdout"
        }
      ]
    },
    {
      "cell_type": "code",
      "metadata": {
        "id": "_nKVX8RSsaDv",
        "colab_type": "code",
        "outputId": "e6d3bbdd-d33a-467a-a0ea-d9f1316a6e33",
        "colab": {
          "base_uri": "https://localhost:8080/",
          "height": 1000
        }
      },
      "source": [
        "from pyspark.mllib.stat import Statistics\n",
        "import pandas as pd\n",
        "\n",
        "#Since i couldn't find built-in function for correlation matrix in Spark, i have used a code from github:  https://gist.github.com/cameres/bc24ac6711c9e537dd20be47b2a83558\n",
        "\n",
        "def compute_correlation_matrix(df, method='pearson'):\n",
        "    df_rdd = df.rdd.map(lambda row: row[0:])\n",
        "    corr_mat = Statistics.corr(df_rdd, method=method)\n",
        "    corr_mat_df = pd.DataFrame(corr_mat,columns=df.columns,index=df.columns)\n",
        "    return corr_mat_df\n",
        "\n",
        "compute_correlation_matrix(data)"
      ],
      "execution_count": 12,
      "outputs": [
        {
          "output_type": "execute_result",
          "data": {
            "text/html": [
              "<div>\n",
              "<style scoped>\n",
              "    .dataframe tbody tr th:only-of-type {\n",
              "        vertical-align: middle;\n",
              "    }\n",
              "\n",
              "    .dataframe tbody tr th {\n",
              "        vertical-align: top;\n",
              "    }\n",
              "\n",
              "    .dataframe thead th {\n",
              "        text-align: right;\n",
              "    }\n",
              "</style>\n",
              "<table border=\"1\" class=\"dataframe\">\n",
              "  <thead>\n",
              "    <tr style=\"text-align: right;\">\n",
              "      <th></th>\n",
              "      <th>radius_mean</th>\n",
              "      <th>texture_mean</th>\n",
              "      <th>perimeter_mean</th>\n",
              "      <th>area_mean</th>\n",
              "      <th>smoothness_mean</th>\n",
              "      <th>compactness_mean</th>\n",
              "      <th>concavity_mean</th>\n",
              "      <th>concave points_mean</th>\n",
              "      <th>symmetry_mean</th>\n",
              "      <th>fractal_dimension_mean</th>\n",
              "      <th>radius_se</th>\n",
              "      <th>texture_se</th>\n",
              "      <th>perimeter_se</th>\n",
              "      <th>area_se</th>\n",
              "      <th>smoothness_se</th>\n",
              "      <th>compactness_se</th>\n",
              "      <th>concavity_se</th>\n",
              "      <th>concave points_se</th>\n",
              "      <th>symmetry_se</th>\n",
              "      <th>fractal_dimension_se</th>\n",
              "      <th>radius_worst</th>\n",
              "      <th>texture_worst</th>\n",
              "      <th>perimeter_worst</th>\n",
              "      <th>area_worst</th>\n",
              "      <th>smoothness_worst</th>\n",
              "      <th>compactness_worst</th>\n",
              "      <th>concavity_worst</th>\n",
              "      <th>concave points_worst</th>\n",
              "      <th>symmetry_worst</th>\n",
              "      <th>fractal_dimension_worst</th>\n",
              "      <th>diagnosis_encoded</th>\n",
              "    </tr>\n",
              "  </thead>\n",
              "  <tbody>\n",
              "    <tr>\n",
              "      <th>radius_mean</th>\n",
              "      <td>1.000000</td>\n",
              "      <td>0.323782</td>\n",
              "      <td>0.997855</td>\n",
              "      <td>0.987357</td>\n",
              "      <td>0.170581</td>\n",
              "      <td>0.506124</td>\n",
              "      <td>0.676764</td>\n",
              "      <td>0.822529</td>\n",
              "      <td>0.147741</td>\n",
              "      <td>-0.311631</td>\n",
              "      <td>0.679090</td>\n",
              "      <td>-0.097317</td>\n",
              "      <td>0.674172</td>\n",
              "      <td>0.735864</td>\n",
              "      <td>-0.222600</td>\n",
              "      <td>0.206000</td>\n",
              "      <td>0.194204</td>\n",
              "      <td>0.376169</td>\n",
              "      <td>-0.104321</td>\n",
              "      <td>-0.042641</td>\n",
              "      <td>0.969539</td>\n",
              "      <td>0.297008</td>\n",
              "      <td>0.965137</td>\n",
              "      <td>0.941082</td>\n",
              "      <td>0.119616</td>\n",
              "      <td>0.413463</td>\n",
              "      <td>0.526911</td>\n",
              "      <td>0.744214</td>\n",
              "      <td>0.163953</td>\n",
              "      <td>0.007066</td>\n",
              "      <td>0.730029</td>\n",
              "    </tr>\n",
              "    <tr>\n",
              "      <th>texture_mean</th>\n",
              "      <td>0.323782</td>\n",
              "      <td>1.000000</td>\n",
              "      <td>0.329533</td>\n",
              "      <td>0.321086</td>\n",
              "      <td>-0.023389</td>\n",
              "      <td>0.236702</td>\n",
              "      <td>0.302418</td>\n",
              "      <td>0.293464</td>\n",
              "      <td>0.071401</td>\n",
              "      <td>-0.076437</td>\n",
              "      <td>0.275869</td>\n",
              "      <td>0.386358</td>\n",
              "      <td>0.281673</td>\n",
              "      <td>0.259845</td>\n",
              "      <td>0.006614</td>\n",
              "      <td>0.191975</td>\n",
              "      <td>0.143293</td>\n",
              "      <td>0.163851</td>\n",
              "      <td>0.009127</td>\n",
              "      <td>0.054458</td>\n",
              "      <td>0.352573</td>\n",
              "      <td>0.912045</td>\n",
              "      <td>0.358040</td>\n",
              "      <td>0.343546</td>\n",
              "      <td>0.077503</td>\n",
              "      <td>0.277830</td>\n",
              "      <td>0.301025</td>\n",
              "      <td>0.295316</td>\n",
              "      <td>0.105008</td>\n",
              "      <td>0.119205</td>\n",
              "      <td>0.415185</td>\n",
              "    </tr>\n",
              "    <tr>\n",
              "      <th>perimeter_mean</th>\n",
              "      <td>0.997855</td>\n",
              "      <td>0.329533</td>\n",
              "      <td>1.000000</td>\n",
              "      <td>0.986507</td>\n",
              "      <td>0.207278</td>\n",
              "      <td>0.556936</td>\n",
              "      <td>0.716136</td>\n",
              "      <td>0.850977</td>\n",
              "      <td>0.183027</td>\n",
              "      <td>-0.261477</td>\n",
              "      <td>0.691765</td>\n",
              "      <td>-0.086761</td>\n",
              "      <td>0.693135</td>\n",
              "      <td>0.744983</td>\n",
              "      <td>-0.202694</td>\n",
              "      <td>0.250744</td>\n",
              "      <td>0.228082</td>\n",
              "      <td>0.407217</td>\n",
              "      <td>-0.081629</td>\n",
              "      <td>-0.005523</td>\n",
              "      <td>0.969476</td>\n",
              "      <td>0.303038</td>\n",
              "      <td>0.970387</td>\n",
              "      <td>0.941550</td>\n",
              "      <td>0.150549</td>\n",
              "      <td>0.455774</td>\n",
              "      <td>0.563879</td>\n",
              "      <td>0.771241</td>\n",
              "      <td>0.189115</td>\n",
              "      <td>0.051019</td>\n",
              "      <td>0.742636</td>\n",
              "    </tr>\n",
              "    <tr>\n",
              "      <th>area_mean</th>\n",
              "      <td>0.987357</td>\n",
              "      <td>0.321086</td>\n",
              "      <td>0.986507</td>\n",
              "      <td>1.000000</td>\n",
              "      <td>0.177028</td>\n",
              "      <td>0.498502</td>\n",
              "      <td>0.685983</td>\n",
              "      <td>0.823269</td>\n",
              "      <td>0.151293</td>\n",
              "      <td>-0.283110</td>\n",
              "      <td>0.732562</td>\n",
              "      <td>-0.066280</td>\n",
              "      <td>0.726628</td>\n",
              "      <td>0.800086</td>\n",
              "      <td>-0.166777</td>\n",
              "      <td>0.212583</td>\n",
              "      <td>0.207660</td>\n",
              "      <td>0.372320</td>\n",
              "      <td>-0.072497</td>\n",
              "      <td>-0.019887</td>\n",
              "      <td>0.962746</td>\n",
              "      <td>0.287489</td>\n",
              "      <td>0.959120</td>\n",
              "      <td>0.959213</td>\n",
              "      <td>0.123523</td>\n",
              "      <td>0.390410</td>\n",
              "      <td>0.512606</td>\n",
              "      <td>0.722017</td>\n",
              "      <td>0.143570</td>\n",
              "      <td>0.003738</td>\n",
              "      <td>0.708984</td>\n",
              "    </tr>\n",
              "    <tr>\n",
              "      <th>smoothness_mean</th>\n",
              "      <td>0.170581</td>\n",
              "      <td>-0.023389</td>\n",
              "      <td>0.207278</td>\n",
              "      <td>0.177028</td>\n",
              "      <td>1.000000</td>\n",
              "      <td>0.659123</td>\n",
              "      <td>0.521984</td>\n",
              "      <td>0.553695</td>\n",
              "      <td>0.557775</td>\n",
              "      <td>0.584792</td>\n",
              "      <td>0.301467</td>\n",
              "      <td>0.068406</td>\n",
              "      <td>0.296092</td>\n",
              "      <td>0.246552</td>\n",
              "      <td>0.332375</td>\n",
              "      <td>0.318943</td>\n",
              "      <td>0.248396</td>\n",
              "      <td>0.380676</td>\n",
              "      <td>0.200774</td>\n",
              "      <td>0.283607</td>\n",
              "      <td>0.213120</td>\n",
              "      <td>0.036072</td>\n",
              "      <td>0.238853</td>\n",
              "      <td>0.206718</td>\n",
              "      <td>0.805324</td>\n",
              "      <td>0.472468</td>\n",
              "      <td>0.434926</td>\n",
              "      <td>0.503053</td>\n",
              "      <td>0.394309</td>\n",
              "      <td>0.499316</td>\n",
              "      <td>0.358560</td>\n",
              "    </tr>\n",
              "    <tr>\n",
              "      <th>compactness_mean</th>\n",
              "      <td>0.506124</td>\n",
              "      <td>0.236702</td>\n",
              "      <td>0.556936</td>\n",
              "      <td>0.498502</td>\n",
              "      <td>0.659123</td>\n",
              "      <td>1.000000</td>\n",
              "      <td>0.883121</td>\n",
              "      <td>0.831135</td>\n",
              "      <td>0.602641</td>\n",
              "      <td>0.565369</td>\n",
              "      <td>0.497473</td>\n",
              "      <td>0.046205</td>\n",
              "      <td>0.548905</td>\n",
              "      <td>0.455653</td>\n",
              "      <td>0.135299</td>\n",
              "      <td>0.738722</td>\n",
              "      <td>0.570517</td>\n",
              "      <td>0.642262</td>\n",
              "      <td>0.229977</td>\n",
              "      <td>0.507318</td>\n",
              "      <td>0.535315</td>\n",
              "      <td>0.248133</td>\n",
              "      <td>0.590210</td>\n",
              "      <td>0.509604</td>\n",
              "      <td>0.565541</td>\n",
              "      <td>0.865809</td>\n",
              "      <td>0.816275</td>\n",
              "      <td>0.815573</td>\n",
              "      <td>0.510223</td>\n",
              "      <td>0.687382</td>\n",
              "      <td>0.596534</td>\n",
              "    </tr>\n",
              "    <tr>\n",
              "      <th>concavity_mean</th>\n",
              "      <td>0.676764</td>\n",
              "      <td>0.302418</td>\n",
              "      <td>0.716136</td>\n",
              "      <td>0.685983</td>\n",
              "      <td>0.521984</td>\n",
              "      <td>0.883121</td>\n",
              "      <td>1.000000</td>\n",
              "      <td>0.921391</td>\n",
              "      <td>0.500667</td>\n",
              "      <td>0.336783</td>\n",
              "      <td>0.631925</td>\n",
              "      <td>0.076218</td>\n",
              "      <td>0.660391</td>\n",
              "      <td>0.617427</td>\n",
              "      <td>0.098564</td>\n",
              "      <td>0.670279</td>\n",
              "      <td>0.691270</td>\n",
              "      <td>0.683260</td>\n",
              "      <td>0.178009</td>\n",
              "      <td>0.449301</td>\n",
              "      <td>0.688236</td>\n",
              "      <td>0.299879</td>\n",
              "      <td>0.729565</td>\n",
              "      <td>0.675987</td>\n",
              "      <td>0.448822</td>\n",
              "      <td>0.754968</td>\n",
              "      <td>0.884103</td>\n",
              "      <td>0.861323</td>\n",
              "      <td>0.409464</td>\n",
              "      <td>0.514930</td>\n",
              "      <td>0.696360</td>\n",
              "    </tr>\n",
              "    <tr>\n",
              "      <th>concave points_mean</th>\n",
              "      <td>0.822529</td>\n",
              "      <td>0.293464</td>\n",
              "      <td>0.850977</td>\n",
              "      <td>0.823269</td>\n",
              "      <td>0.553695</td>\n",
              "      <td>0.831135</td>\n",
              "      <td>0.921391</td>\n",
              "      <td>1.000000</td>\n",
              "      <td>0.462497</td>\n",
              "      <td>0.166917</td>\n",
              "      <td>0.698050</td>\n",
              "      <td>0.021480</td>\n",
              "      <td>0.710650</td>\n",
              "      <td>0.690299</td>\n",
              "      <td>0.027653</td>\n",
              "      <td>0.490424</td>\n",
              "      <td>0.439167</td>\n",
              "      <td>0.615634</td>\n",
              "      <td>0.095351</td>\n",
              "      <td>0.257584</td>\n",
              "      <td>0.830318</td>\n",
              "      <td>0.292752</td>\n",
              "      <td>0.855923</td>\n",
              "      <td>0.809630</td>\n",
              "      <td>0.452753</td>\n",
              "      <td>0.667454</td>\n",
              "      <td>0.752399</td>\n",
              "      <td>0.910155</td>\n",
              "      <td>0.375744</td>\n",
              "      <td>0.368661</td>\n",
              "      <td>0.776614</td>\n",
              "    </tr>\n",
              "    <tr>\n",
              "      <th>symmetry_mean</th>\n",
              "      <td>0.147741</td>\n",
              "      <td>0.071401</td>\n",
              "      <td>0.183027</td>\n",
              "      <td>0.151293</td>\n",
              "      <td>0.557775</td>\n",
              "      <td>0.602641</td>\n",
              "      <td>0.500667</td>\n",
              "      <td>0.462497</td>\n",
              "      <td>1.000000</td>\n",
              "      <td>0.479921</td>\n",
              "      <td>0.303379</td>\n",
              "      <td>0.128053</td>\n",
              "      <td>0.313893</td>\n",
              "      <td>0.223970</td>\n",
              "      <td>0.187321</td>\n",
              "      <td>0.421659</td>\n",
              "      <td>0.342627</td>\n",
              "      <td>0.393298</td>\n",
              "      <td>0.449137</td>\n",
              "      <td>0.331786</td>\n",
              "      <td>0.185728</td>\n",
              "      <td>0.090651</td>\n",
              "      <td>0.219169</td>\n",
              "      <td>0.177193</td>\n",
              "      <td>0.426675</td>\n",
              "      <td>0.473200</td>\n",
              "      <td>0.433721</td>\n",
              "      <td>0.430297</td>\n",
              "      <td>0.699826</td>\n",
              "      <td>0.438413</td>\n",
              "      <td>0.330499</td>\n",
              "    </tr>\n",
              "    <tr>\n",
              "      <th>fractal_dimension_mean</th>\n",
              "      <td>-0.311631</td>\n",
              "      <td>-0.076437</td>\n",
              "      <td>-0.261477</td>\n",
              "      <td>-0.283110</td>\n",
              "      <td>0.584792</td>\n",
              "      <td>0.565369</td>\n",
              "      <td>0.336783</td>\n",
              "      <td>0.166917</td>\n",
              "      <td>0.479921</td>\n",
              "      <td>1.000000</td>\n",
              "      <td>0.000111</td>\n",
              "      <td>0.164174</td>\n",
              "      <td>0.039830</td>\n",
              "      <td>-0.090170</td>\n",
              "      <td>0.401964</td>\n",
              "      <td>0.559837</td>\n",
              "      <td>0.446630</td>\n",
              "      <td>0.341198</td>\n",
              "      <td>0.345007</td>\n",
              "      <td>0.688132</td>\n",
              "      <td>-0.253691</td>\n",
              "      <td>-0.051269</td>\n",
              "      <td>-0.205151</td>\n",
              "      <td>-0.231854</td>\n",
              "      <td>0.504942</td>\n",
              "      <td>0.458798</td>\n",
              "      <td>0.346234</td>\n",
              "      <td>0.175325</td>\n",
              "      <td>0.334019</td>\n",
              "      <td>0.767297</td>\n",
              "      <td>-0.012838</td>\n",
              "    </tr>\n",
              "    <tr>\n",
              "      <th>radius_se</th>\n",
              "      <td>0.679090</td>\n",
              "      <td>0.275869</td>\n",
              "      <td>0.691765</td>\n",
              "      <td>0.732562</td>\n",
              "      <td>0.301467</td>\n",
              "      <td>0.497473</td>\n",
              "      <td>0.631925</td>\n",
              "      <td>0.698050</td>\n",
              "      <td>0.303379</td>\n",
              "      <td>0.000111</td>\n",
              "      <td>1.000000</td>\n",
              "      <td>0.213247</td>\n",
              "      <td>0.972794</td>\n",
              "      <td>0.951830</td>\n",
              "      <td>0.164514</td>\n",
              "      <td>0.356065</td>\n",
              "      <td>0.332358</td>\n",
              "      <td>0.513346</td>\n",
              "      <td>0.240567</td>\n",
              "      <td>0.227754</td>\n",
              "      <td>0.715065</td>\n",
              "      <td>0.194799</td>\n",
              "      <td>0.719684</td>\n",
              "      <td>0.751548</td>\n",
              "      <td>0.141919</td>\n",
              "      <td>0.287103</td>\n",
              "      <td>0.380585</td>\n",
              "      <td>0.531062</td>\n",
              "      <td>0.094543</td>\n",
              "      <td>0.049559</td>\n",
              "      <td>0.567134</td>\n",
              "    </tr>\n",
              "    <tr>\n",
              "      <th>texture_se</th>\n",
              "      <td>-0.097317</td>\n",
              "      <td>0.386358</td>\n",
              "      <td>-0.086761</td>\n",
              "      <td>-0.066280</td>\n",
              "      <td>0.068406</td>\n",
              "      <td>0.046205</td>\n",
              "      <td>0.076218</td>\n",
              "      <td>0.021480</td>\n",
              "      <td>0.128053</td>\n",
              "      <td>0.164174</td>\n",
              "      <td>0.213247</td>\n",
              "      <td>1.000000</td>\n",
              "      <td>0.223171</td>\n",
              "      <td>0.111567</td>\n",
              "      <td>0.397243</td>\n",
              "      <td>0.231700</td>\n",
              "      <td>0.194998</td>\n",
              "      <td>0.230283</td>\n",
              "      <td>0.411621</td>\n",
              "      <td>0.279723</td>\n",
              "      <td>-0.111690</td>\n",
              "      <td>0.409003</td>\n",
              "      <td>-0.102242</td>\n",
              "      <td>-0.083195</td>\n",
              "      <td>-0.073658</td>\n",
              "      <td>-0.092439</td>\n",
              "      <td>-0.068956</td>\n",
              "      <td>-0.119638</td>\n",
              "      <td>-0.128215</td>\n",
              "      <td>-0.045655</td>\n",
              "      <td>-0.008303</td>\n",
              "    </tr>\n",
              "    <tr>\n",
              "      <th>perimeter_se</th>\n",
              "      <td>0.674172</td>\n",
              "      <td>0.281673</td>\n",
              "      <td>0.693135</td>\n",
              "      <td>0.726628</td>\n",
              "      <td>0.296092</td>\n",
              "      <td>0.548905</td>\n",
              "      <td>0.660391</td>\n",
              "      <td>0.710650</td>\n",
              "      <td>0.313893</td>\n",
              "      <td>0.039830</td>\n",
              "      <td>0.972794</td>\n",
              "      <td>0.223171</td>\n",
              "      <td>1.000000</td>\n",
              "      <td>0.937655</td>\n",
              "      <td>0.151075</td>\n",
              "      <td>0.416322</td>\n",
              "      <td>0.362482</td>\n",
              "      <td>0.556264</td>\n",
              "      <td>0.266487</td>\n",
              "      <td>0.244143</td>\n",
              "      <td>0.697201</td>\n",
              "      <td>0.200371</td>\n",
              "      <td>0.721031</td>\n",
              "      <td>0.730713</td>\n",
              "      <td>0.130054</td>\n",
              "      <td>0.341919</td>\n",
              "      <td>0.418899</td>\n",
              "      <td>0.554897</td>\n",
              "      <td>0.109930</td>\n",
              "      <td>0.085433</td>\n",
              "      <td>0.556141</td>\n",
              "    </tr>\n",
              "    <tr>\n",
              "      <th>area_se</th>\n",
              "      <td>0.735864</td>\n",
              "      <td>0.259845</td>\n",
              "      <td>0.744983</td>\n",
              "      <td>0.800086</td>\n",
              "      <td>0.246552</td>\n",
              "      <td>0.455653</td>\n",
              "      <td>0.617427</td>\n",
              "      <td>0.690299</td>\n",
              "      <td>0.223970</td>\n",
              "      <td>-0.090170</td>\n",
              "      <td>0.951830</td>\n",
              "      <td>0.111567</td>\n",
              "      <td>0.937655</td>\n",
              "      <td>1.000000</td>\n",
              "      <td>0.075150</td>\n",
              "      <td>0.284840</td>\n",
              "      <td>0.270895</td>\n",
              "      <td>0.415730</td>\n",
              "      <td>0.134109</td>\n",
              "      <td>0.127071</td>\n",
              "      <td>0.757373</td>\n",
              "      <td>0.196497</td>\n",
              "      <td>0.761213</td>\n",
              "      <td>0.811408</td>\n",
              "      <td>0.125389</td>\n",
              "      <td>0.283257</td>\n",
              "      <td>0.385100</td>\n",
              "      <td>0.538166</td>\n",
              "      <td>0.074126</td>\n",
              "      <td>0.017539</td>\n",
              "      <td>0.548236</td>\n",
              "    </tr>\n",
              "    <tr>\n",
              "      <th>smoothness_se</th>\n",
              "      <td>-0.222600</td>\n",
              "      <td>0.006614</td>\n",
              "      <td>-0.202694</td>\n",
              "      <td>-0.166777</td>\n",
              "      <td>0.332375</td>\n",
              "      <td>0.135299</td>\n",
              "      <td>0.098564</td>\n",
              "      <td>0.027653</td>\n",
              "      <td>0.187321</td>\n",
              "      <td>0.401964</td>\n",
              "      <td>0.164514</td>\n",
              "      <td>0.397243</td>\n",
              "      <td>0.151075</td>\n",
              "      <td>0.075150</td>\n",
              "      <td>1.000000</td>\n",
              "      <td>0.336696</td>\n",
              "      <td>0.268685</td>\n",
              "      <td>0.328429</td>\n",
              "      <td>0.413506</td>\n",
              "      <td>0.427374</td>\n",
              "      <td>-0.230691</td>\n",
              "      <td>-0.074743</td>\n",
              "      <td>-0.217304</td>\n",
              "      <td>-0.182195</td>\n",
              "      <td>0.314457</td>\n",
              "      <td>-0.055558</td>\n",
              "      <td>-0.058298</td>\n",
              "      <td>-0.102007</td>\n",
              "      <td>-0.107342</td>\n",
              "      <td>0.101480</td>\n",
              "      <td>-0.067016</td>\n",
              "    </tr>\n",
              "    <tr>\n",
              "      <th>compactness_se</th>\n",
              "      <td>0.206000</td>\n",
              "      <td>0.191975</td>\n",
              "      <td>0.250744</td>\n",
              "      <td>0.212583</td>\n",
              "      <td>0.318943</td>\n",
              "      <td>0.738722</td>\n",
              "      <td>0.670279</td>\n",
              "      <td>0.490424</td>\n",
              "      <td>0.421659</td>\n",
              "      <td>0.559837</td>\n",
              "      <td>0.356065</td>\n",
              "      <td>0.231700</td>\n",
              "      <td>0.416322</td>\n",
              "      <td>0.284840</td>\n",
              "      <td>0.336696</td>\n",
              "      <td>1.000000</td>\n",
              "      <td>0.801268</td>\n",
              "      <td>0.744083</td>\n",
              "      <td>0.394713</td>\n",
              "      <td>0.803269</td>\n",
              "      <td>0.204607</td>\n",
              "      <td>0.143003</td>\n",
              "      <td>0.260516</td>\n",
              "      <td>0.199371</td>\n",
              "      <td>0.227394</td>\n",
              "      <td>0.678780</td>\n",
              "      <td>0.639147</td>\n",
              "      <td>0.483208</td>\n",
              "      <td>0.277878</td>\n",
              "      <td>0.590973</td>\n",
              "      <td>0.292999</td>\n",
              "    </tr>\n",
              "    <tr>\n",
              "      <th>concavity_se</th>\n",
              "      <td>0.194204</td>\n",
              "      <td>0.143293</td>\n",
              "      <td>0.228082</td>\n",
              "      <td>0.207660</td>\n",
              "      <td>0.248396</td>\n",
              "      <td>0.570517</td>\n",
              "      <td>0.691270</td>\n",
              "      <td>0.439167</td>\n",
              "      <td>0.342627</td>\n",
              "      <td>0.446630</td>\n",
              "      <td>0.332358</td>\n",
              "      <td>0.194998</td>\n",
              "      <td>0.362482</td>\n",
              "      <td>0.270895</td>\n",
              "      <td>0.268685</td>\n",
              "      <td>0.801268</td>\n",
              "      <td>1.000000</td>\n",
              "      <td>0.771804</td>\n",
              "      <td>0.309429</td>\n",
              "      <td>0.727372</td>\n",
              "      <td>0.186904</td>\n",
              "      <td>0.100241</td>\n",
              "      <td>0.226680</td>\n",
              "      <td>0.188353</td>\n",
              "      <td>0.168481</td>\n",
              "      <td>0.484858</td>\n",
              "      <td>0.662564</td>\n",
              "      <td>0.440472</td>\n",
              "      <td>0.197788</td>\n",
              "      <td>0.439329</td>\n",
              "      <td>0.253730</td>\n",
              "    </tr>\n",
              "    <tr>\n",
              "      <th>concave points_se</th>\n",
              "      <td>0.376169</td>\n",
              "      <td>0.163851</td>\n",
              "      <td>0.407217</td>\n",
              "      <td>0.372320</td>\n",
              "      <td>0.380676</td>\n",
              "      <td>0.642262</td>\n",
              "      <td>0.683260</td>\n",
              "      <td>0.615634</td>\n",
              "      <td>0.393298</td>\n",
              "      <td>0.341198</td>\n",
              "      <td>0.513346</td>\n",
              "      <td>0.230283</td>\n",
              "      <td>0.556264</td>\n",
              "      <td>0.415730</td>\n",
              "      <td>0.328429</td>\n",
              "      <td>0.744083</td>\n",
              "      <td>0.771804</td>\n",
              "      <td>1.000000</td>\n",
              "      <td>0.312780</td>\n",
              "      <td>0.611044</td>\n",
              "      <td>0.358127</td>\n",
              "      <td>0.086741</td>\n",
              "      <td>0.394999</td>\n",
              "      <td>0.342271</td>\n",
              "      <td>0.215351</td>\n",
              "      <td>0.452888</td>\n",
              "      <td>0.549592</td>\n",
              "      <td>0.602450</td>\n",
              "      <td>0.143116</td>\n",
              "      <td>0.310655</td>\n",
              "      <td>0.408042</td>\n",
              "    </tr>\n",
              "    <tr>\n",
              "      <th>symmetry_se</th>\n",
              "      <td>-0.104321</td>\n",
              "      <td>0.009127</td>\n",
              "      <td>-0.081629</td>\n",
              "      <td>-0.072497</td>\n",
              "      <td>0.200774</td>\n",
              "      <td>0.229977</td>\n",
              "      <td>0.178009</td>\n",
              "      <td>0.095351</td>\n",
              "      <td>0.449137</td>\n",
              "      <td>0.345007</td>\n",
              "      <td>0.240567</td>\n",
              "      <td>0.411621</td>\n",
              "      <td>0.266487</td>\n",
              "      <td>0.134109</td>\n",
              "      <td>0.413506</td>\n",
              "      <td>0.394713</td>\n",
              "      <td>0.309429</td>\n",
              "      <td>0.312780</td>\n",
              "      <td>1.000000</td>\n",
              "      <td>0.369078</td>\n",
              "      <td>-0.128121</td>\n",
              "      <td>-0.077473</td>\n",
              "      <td>-0.103753</td>\n",
              "      <td>-0.110343</td>\n",
              "      <td>-0.012662</td>\n",
              "      <td>0.060255</td>\n",
              "      <td>0.037119</td>\n",
              "      <td>-0.030413</td>\n",
              "      <td>0.389402</td>\n",
              "      <td>0.078079</td>\n",
              "      <td>-0.006522</td>\n",
              "    </tr>\n",
              "    <tr>\n",
              "      <th>fractal_dimension_se</th>\n",
              "      <td>-0.042641</td>\n",
              "      <td>0.054458</td>\n",
              "      <td>-0.005523</td>\n",
              "      <td>-0.019887</td>\n",
              "      <td>0.283607</td>\n",
              "      <td>0.507318</td>\n",
              "      <td>0.449301</td>\n",
              "      <td>0.257584</td>\n",
              "      <td>0.331786</td>\n",
              "      <td>0.688132</td>\n",
              "      <td>0.227754</td>\n",
              "      <td>0.279723</td>\n",
              "      <td>0.244143</td>\n",
              "      <td>0.127071</td>\n",
              "      <td>0.427374</td>\n",
              "      <td>0.803269</td>\n",
              "      <td>0.727372</td>\n",
              "      <td>0.611044</td>\n",
              "      <td>0.369078</td>\n",
              "      <td>1.000000</td>\n",
              "      <td>-0.037488</td>\n",
              "      <td>-0.003195</td>\n",
              "      <td>-0.001000</td>\n",
              "      <td>-0.022736</td>\n",
              "      <td>0.170568</td>\n",
              "      <td>0.390159</td>\n",
              "      <td>0.379975</td>\n",
              "      <td>0.215204</td>\n",
              "      <td>0.111094</td>\n",
              "      <td>0.591328</td>\n",
              "      <td>0.077972</td>\n",
              "    </tr>\n",
              "    <tr>\n",
              "      <th>radius_worst</th>\n",
              "      <td>0.969539</td>\n",
              "      <td>0.352573</td>\n",
              "      <td>0.969476</td>\n",
              "      <td>0.962746</td>\n",
              "      <td>0.213120</td>\n",
              "      <td>0.535315</td>\n",
              "      <td>0.688236</td>\n",
              "      <td>0.830318</td>\n",
              "      <td>0.185728</td>\n",
              "      <td>-0.253691</td>\n",
              "      <td>0.715065</td>\n",
              "      <td>-0.111690</td>\n",
              "      <td>0.697201</td>\n",
              "      <td>0.757373</td>\n",
              "      <td>-0.230691</td>\n",
              "      <td>0.204607</td>\n",
              "      <td>0.186904</td>\n",
              "      <td>0.358127</td>\n",
              "      <td>-0.128121</td>\n",
              "      <td>-0.037488</td>\n",
              "      <td>1.000000</td>\n",
              "      <td>0.359921</td>\n",
              "      <td>0.993708</td>\n",
              "      <td>0.984015</td>\n",
              "      <td>0.216574</td>\n",
              "      <td>0.475820</td>\n",
              "      <td>0.573975</td>\n",
              "      <td>0.787424</td>\n",
              "      <td>0.243529</td>\n",
              "      <td>0.093492</td>\n",
              "      <td>0.776454</td>\n",
              "    </tr>\n",
              "    <tr>\n",
              "      <th>texture_worst</th>\n",
              "      <td>0.297008</td>\n",
              "      <td>0.912045</td>\n",
              "      <td>0.303038</td>\n",
              "      <td>0.287489</td>\n",
              "      <td>0.036072</td>\n",
              "      <td>0.248133</td>\n",
              "      <td>0.299879</td>\n",
              "      <td>0.292752</td>\n",
              "      <td>0.090651</td>\n",
              "      <td>-0.051269</td>\n",
              "      <td>0.194799</td>\n",
              "      <td>0.409003</td>\n",
              "      <td>0.200371</td>\n",
              "      <td>0.196497</td>\n",
              "      <td>-0.074743</td>\n",
              "      <td>0.143003</td>\n",
              "      <td>0.100241</td>\n",
              "      <td>0.086741</td>\n",
              "      <td>-0.077473</td>\n",
              "      <td>-0.003195</td>\n",
              "      <td>0.359921</td>\n",
              "      <td>1.000000</td>\n",
              "      <td>0.365098</td>\n",
              "      <td>0.345842</td>\n",
              "      <td>0.225429</td>\n",
              "      <td>0.360832</td>\n",
              "      <td>0.368366</td>\n",
              "      <td>0.359755</td>\n",
              "      <td>0.233027</td>\n",
              "      <td>0.219122</td>\n",
              "      <td>0.456903</td>\n",
              "    </tr>\n",
              "    <tr>\n",
              "      <th>perimeter_worst</th>\n",
              "      <td>0.965137</td>\n",
              "      <td>0.358040</td>\n",
              "      <td>0.970387</td>\n",
              "      <td>0.959120</td>\n",
              "      <td>0.238853</td>\n",
              "      <td>0.590210</td>\n",
              "      <td>0.729565</td>\n",
              "      <td>0.855923</td>\n",
              "      <td>0.219169</td>\n",
              "      <td>-0.205151</td>\n",
              "      <td>0.719684</td>\n",
              "      <td>-0.102242</td>\n",
              "      <td>0.721031</td>\n",
              "      <td>0.761213</td>\n",
              "      <td>-0.217304</td>\n",
              "      <td>0.260516</td>\n",
              "      <td>0.226680</td>\n",
              "      <td>0.394999</td>\n",
              "      <td>-0.103753</td>\n",
              "      <td>-0.001000</td>\n",
              "      <td>0.993708</td>\n",
              "      <td>0.365098</td>\n",
              "      <td>1.000000</td>\n",
              "      <td>0.977578</td>\n",
              "      <td>0.236775</td>\n",
              "      <td>0.529408</td>\n",
              "      <td>0.618344</td>\n",
              "      <td>0.816322</td>\n",
              "      <td>0.269493</td>\n",
              "      <td>0.138957</td>\n",
              "      <td>0.782914</td>\n",
              "    </tr>\n",
              "    <tr>\n",
              "      <th>area_worst</th>\n",
              "      <td>0.941082</td>\n",
              "      <td>0.343546</td>\n",
              "      <td>0.941550</td>\n",
              "      <td>0.959213</td>\n",
              "      <td>0.206718</td>\n",
              "      <td>0.509604</td>\n",
              "      <td>0.675987</td>\n",
              "      <td>0.809630</td>\n",
              "      <td>0.177193</td>\n",
              "      <td>-0.231854</td>\n",
              "      <td>0.751548</td>\n",
              "      <td>-0.083195</td>\n",
              "      <td>0.730713</td>\n",
              "      <td>0.811408</td>\n",
              "      <td>-0.182195</td>\n",
              "      <td>0.199371</td>\n",
              "      <td>0.188353</td>\n",
              "      <td>0.342271</td>\n",
              "      <td>-0.110343</td>\n",
              "      <td>-0.022736</td>\n",
              "      <td>0.984015</td>\n",
              "      <td>0.345842</td>\n",
              "      <td>0.977578</td>\n",
              "      <td>1.000000</td>\n",
              "      <td>0.209145</td>\n",
              "      <td>0.438296</td>\n",
              "      <td>0.543331</td>\n",
              "      <td>0.747419</td>\n",
              "      <td>0.209146</td>\n",
              "      <td>0.079647</td>\n",
              "      <td>0.733825</td>\n",
              "    </tr>\n",
              "    <tr>\n",
              "      <th>smoothness_worst</th>\n",
              "      <td>0.119616</td>\n",
              "      <td>0.077503</td>\n",
              "      <td>0.150549</td>\n",
              "      <td>0.123523</td>\n",
              "      <td>0.805324</td>\n",
              "      <td>0.565541</td>\n",
              "      <td>0.448822</td>\n",
              "      <td>0.452753</td>\n",
              "      <td>0.426675</td>\n",
              "      <td>0.504942</td>\n",
              "      <td>0.141919</td>\n",
              "      <td>-0.073658</td>\n",
              "      <td>0.130054</td>\n",
              "      <td>0.125389</td>\n",
              "      <td>0.314457</td>\n",
              "      <td>0.227394</td>\n",
              "      <td>0.168481</td>\n",
              "      <td>0.215351</td>\n",
              "      <td>-0.012662</td>\n",
              "      <td>0.170568</td>\n",
              "      <td>0.216574</td>\n",
              "      <td>0.225429</td>\n",
              "      <td>0.236775</td>\n",
              "      <td>0.209145</td>\n",
              "      <td>1.000000</td>\n",
              "      <td>0.568187</td>\n",
              "      <td>0.518523</td>\n",
              "      <td>0.547691</td>\n",
              "      <td>0.493838</td>\n",
              "      <td>0.617624</td>\n",
              "      <td>0.421465</td>\n",
              "    </tr>\n",
              "    <tr>\n",
              "      <th>compactness_worst</th>\n",
              "      <td>0.413463</td>\n",
              "      <td>0.277830</td>\n",
              "      <td>0.455774</td>\n",
              "      <td>0.390410</td>\n",
              "      <td>0.472468</td>\n",
              "      <td>0.865809</td>\n",
              "      <td>0.754968</td>\n",
              "      <td>0.667454</td>\n",
              "      <td>0.473200</td>\n",
              "      <td>0.458798</td>\n",
              "      <td>0.287103</td>\n",
              "      <td>-0.092439</td>\n",
              "      <td>0.341919</td>\n",
              "      <td>0.283257</td>\n",
              "      <td>-0.055558</td>\n",
              "      <td>0.678780</td>\n",
              "      <td>0.484858</td>\n",
              "      <td>0.452888</td>\n",
              "      <td>0.060255</td>\n",
              "      <td>0.390159</td>\n",
              "      <td>0.475820</td>\n",
              "      <td>0.360832</td>\n",
              "      <td>0.529408</td>\n",
              "      <td>0.438296</td>\n",
              "      <td>0.568187</td>\n",
              "      <td>1.000000</td>\n",
              "      <td>0.892261</td>\n",
              "      <td>0.801080</td>\n",
              "      <td>0.614441</td>\n",
              "      <td>0.810455</td>\n",
              "      <td>0.590998</td>\n",
              "    </tr>\n",
              "    <tr>\n",
              "      <th>concavity_worst</th>\n",
              "      <td>0.526911</td>\n",
              "      <td>0.301025</td>\n",
              "      <td>0.563879</td>\n",
              "      <td>0.512606</td>\n",
              "      <td>0.434926</td>\n",
              "      <td>0.816275</td>\n",
              "      <td>0.884103</td>\n",
              "      <td>0.752399</td>\n",
              "      <td>0.433721</td>\n",
              "      <td>0.346234</td>\n",
              "      <td>0.380585</td>\n",
              "      <td>-0.068956</td>\n",
              "      <td>0.418899</td>\n",
              "      <td>0.385100</td>\n",
              "      <td>-0.058298</td>\n",
              "      <td>0.639147</td>\n",
              "      <td>0.662564</td>\n",
              "      <td>0.549592</td>\n",
              "      <td>0.037119</td>\n",
              "      <td>0.379975</td>\n",
              "      <td>0.573975</td>\n",
              "      <td>0.368366</td>\n",
              "      <td>0.618344</td>\n",
              "      <td>0.543331</td>\n",
              "      <td>0.518523</td>\n",
              "      <td>0.892261</td>\n",
              "      <td>1.000000</td>\n",
              "      <td>0.855434</td>\n",
              "      <td>0.532520</td>\n",
              "      <td>0.686511</td>\n",
              "      <td>0.659610</td>\n",
              "    </tr>\n",
              "    <tr>\n",
              "      <th>concave points_worst</th>\n",
              "      <td>0.744214</td>\n",
              "      <td>0.295316</td>\n",
              "      <td>0.771241</td>\n",
              "      <td>0.722017</td>\n",
              "      <td>0.503053</td>\n",
              "      <td>0.815573</td>\n",
              "      <td>0.861323</td>\n",
              "      <td>0.910155</td>\n",
              "      <td>0.430297</td>\n",
              "      <td>0.175325</td>\n",
              "      <td>0.531062</td>\n",
              "      <td>-0.119638</td>\n",
              "      <td>0.554897</td>\n",
              "      <td>0.538166</td>\n",
              "      <td>-0.102007</td>\n",
              "      <td>0.483208</td>\n",
              "      <td>0.440472</td>\n",
              "      <td>0.602450</td>\n",
              "      <td>-0.030413</td>\n",
              "      <td>0.215204</td>\n",
              "      <td>0.787424</td>\n",
              "      <td>0.359755</td>\n",
              "      <td>0.816322</td>\n",
              "      <td>0.747419</td>\n",
              "      <td>0.547691</td>\n",
              "      <td>0.801080</td>\n",
              "      <td>0.855434</td>\n",
              "      <td>1.000000</td>\n",
              "      <td>0.502528</td>\n",
              "      <td>0.511114</td>\n",
              "      <td>0.793566</td>\n",
              "    </tr>\n",
              "    <tr>\n",
              "      <th>symmetry_worst</th>\n",
              "      <td>0.163953</td>\n",
              "      <td>0.105008</td>\n",
              "      <td>0.189115</td>\n",
              "      <td>0.143570</td>\n",
              "      <td>0.394309</td>\n",
              "      <td>0.510223</td>\n",
              "      <td>0.409464</td>\n",
              "      <td>0.375744</td>\n",
              "      <td>0.699826</td>\n",
              "      <td>0.334019</td>\n",
              "      <td>0.094543</td>\n",
              "      <td>-0.128215</td>\n",
              "      <td>0.109930</td>\n",
              "      <td>0.074126</td>\n",
              "      <td>-0.107342</td>\n",
              "      <td>0.277878</td>\n",
              "      <td>0.197788</td>\n",
              "      <td>0.143116</td>\n",
              "      <td>0.389402</td>\n",
              "      <td>0.111094</td>\n",
              "      <td>0.243529</td>\n",
              "      <td>0.233027</td>\n",
              "      <td>0.269493</td>\n",
              "      <td>0.209146</td>\n",
              "      <td>0.493838</td>\n",
              "      <td>0.614441</td>\n",
              "      <td>0.532520</td>\n",
              "      <td>0.502528</td>\n",
              "      <td>1.000000</td>\n",
              "      <td>0.537848</td>\n",
              "      <td>0.416294</td>\n",
              "    </tr>\n",
              "    <tr>\n",
              "      <th>fractal_dimension_worst</th>\n",
              "      <td>0.007066</td>\n",
              "      <td>0.119205</td>\n",
              "      <td>0.051019</td>\n",
              "      <td>0.003738</td>\n",
              "      <td>0.499316</td>\n",
              "      <td>0.687382</td>\n",
              "      <td>0.514930</td>\n",
              "      <td>0.368661</td>\n",
              "      <td>0.438413</td>\n",
              "      <td>0.767297</td>\n",
              "      <td>0.049559</td>\n",
              "      <td>-0.045655</td>\n",
              "      <td>0.085433</td>\n",
              "      <td>0.017539</td>\n",
              "      <td>0.101480</td>\n",
              "      <td>0.590973</td>\n",
              "      <td>0.439329</td>\n",
              "      <td>0.310655</td>\n",
              "      <td>0.078079</td>\n",
              "      <td>0.591328</td>\n",
              "      <td>0.093492</td>\n",
              "      <td>0.219122</td>\n",
              "      <td>0.138957</td>\n",
              "      <td>0.079647</td>\n",
              "      <td>0.617624</td>\n",
              "      <td>0.810455</td>\n",
              "      <td>0.686511</td>\n",
              "      <td>0.511114</td>\n",
              "      <td>0.537848</td>\n",
              "      <td>1.000000</td>\n",
              "      <td>0.323872</td>\n",
              "    </tr>\n",
              "    <tr>\n",
              "      <th>diagnosis_encoded</th>\n",
              "      <td>0.730029</td>\n",
              "      <td>0.415185</td>\n",
              "      <td>0.742636</td>\n",
              "      <td>0.708984</td>\n",
              "      <td>0.358560</td>\n",
              "      <td>0.596534</td>\n",
              "      <td>0.696360</td>\n",
              "      <td>0.776614</td>\n",
              "      <td>0.330499</td>\n",
              "      <td>-0.012838</td>\n",
              "      <td>0.567134</td>\n",
              "      <td>-0.008303</td>\n",
              "      <td>0.556141</td>\n",
              "      <td>0.548236</td>\n",
              "      <td>-0.067016</td>\n",
              "      <td>0.292999</td>\n",
              "      <td>0.253730</td>\n",
              "      <td>0.408042</td>\n",
              "      <td>-0.006522</td>\n",
              "      <td>0.077972</td>\n",
              "      <td>0.776454</td>\n",
              "      <td>0.456903</td>\n",
              "      <td>0.782914</td>\n",
              "      <td>0.733825</td>\n",
              "      <td>0.421465</td>\n",
              "      <td>0.590998</td>\n",
              "      <td>0.659610</td>\n",
              "      <td>0.793566</td>\n",
              "      <td>0.416294</td>\n",
              "      <td>0.323872</td>\n",
              "      <td>1.000000</td>\n",
              "    </tr>\n",
              "  </tbody>\n",
              "</table>\n",
              "</div>"
            ],
            "text/plain": [
              "                         radius_mean  ...  diagnosis_encoded\n",
              "radius_mean                 1.000000  ...           0.730029\n",
              "texture_mean                0.323782  ...           0.415185\n",
              "perimeter_mean              0.997855  ...           0.742636\n",
              "area_mean                   0.987357  ...           0.708984\n",
              "smoothness_mean             0.170581  ...           0.358560\n",
              "compactness_mean            0.506124  ...           0.596534\n",
              "concavity_mean              0.676764  ...           0.696360\n",
              "concave points_mean         0.822529  ...           0.776614\n",
              "symmetry_mean               0.147741  ...           0.330499\n",
              "fractal_dimension_mean     -0.311631  ...          -0.012838\n",
              "radius_se                   0.679090  ...           0.567134\n",
              "texture_se                 -0.097317  ...          -0.008303\n",
              "perimeter_se                0.674172  ...           0.556141\n",
              "area_se                     0.735864  ...           0.548236\n",
              "smoothness_se              -0.222600  ...          -0.067016\n",
              "compactness_se              0.206000  ...           0.292999\n",
              "concavity_se                0.194204  ...           0.253730\n",
              "concave points_se           0.376169  ...           0.408042\n",
              "symmetry_se                -0.104321  ...          -0.006522\n",
              "fractal_dimension_se       -0.042641  ...           0.077972\n",
              "radius_worst                0.969539  ...           0.776454\n",
              "texture_worst               0.297008  ...           0.456903\n",
              "perimeter_worst             0.965137  ...           0.782914\n",
              "area_worst                  0.941082  ...           0.733825\n",
              "smoothness_worst            0.119616  ...           0.421465\n",
              "compactness_worst           0.413463  ...           0.590998\n",
              "concavity_worst             0.526911  ...           0.659610\n",
              "concave points_worst        0.744214  ...           0.793566\n",
              "symmetry_worst              0.163953  ...           0.416294\n",
              "fractal_dimension_worst     0.007066  ...           0.323872\n",
              "diagnosis_encoded           0.730029  ...           1.000000\n",
              "\n",
              "[31 rows x 31 columns]"
            ]
          },
          "metadata": {
            "tags": []
          },
          "execution_count": 12
        }
      ]
    },
    {
      "cell_type": "markdown",
      "metadata": {
        "id": "paiOjpcZwjvH",
        "colab_type": "text"
      },
      "source": [
        "High correlation are more linearly dependent and hence have almost the same effect on the dependent variable.\n",
        "So, when two features have high correlation, we can drop one of the two features(I will delete if corr>0.90)\n",
        "With this way, we can avoid the overfitting"
      ]
    },
    {
      "cell_type": "code",
      "metadata": {
        "id": "iy1mthgRyMtv",
        "colab_type": "code",
        "colab": {}
      },
      "source": [
        "data = data.drop(\"perimeter_mean\",\"area_mean\",\"radius_worst\", \"perimeter_worst\",\"area_worst\")\n",
        "data = data.drop(\"concave points_mean\",\"texture_worst\",\"perimeter_se\")"
      ],
      "execution_count": 0,
      "outputs": []
    },
    {
      "cell_type": "code",
      "metadata": {
        "id": "oEUIN48p1lby",
        "colab_type": "code",
        "outputId": "bad7d514-a65e-42ce-90f5-0facf4e250c6",
        "colab": {
          "base_uri": "https://localhost:8080/",
          "height": 34
        }
      },
      "source": [
        "print(\"Size of the updated DataFrame:\", (data.count(), len(data.columns)))\n"
      ],
      "execution_count": 14,
      "outputs": [
        {
          "output_type": "stream",
          "text": [
            "Size of the updated DataFrame: (569, 23)\n"
          ],
          "name": "stdout"
        }
      ]
    },
    {
      "cell_type": "markdown",
      "metadata": {
        "id": "wq47qe8vwtpP",
        "colab_type": "text"
      },
      "source": [
        "Now, we have a dataframe which have 22+1 columns in total. It was 33 at the beginning.\n",
        "So 10 columns of the original dataset are deleted.\n",
        "\n",
        "We will create two different dataframe to use them seperately (Original data and Scaled Data)"
      ]
    },
    {
      "cell_type": "code",
      "metadata": {
        "id": "uGYi9ZVl2KDJ",
        "colab_type": "code",
        "colab": {}
      },
      "source": [
        "from pyspark.ml.linalg import Vectors\n",
        "from pyspark.ml.feature import VectorAssembler\n",
        "\n",
        "pd_data = data.select(\"*\").toPandas()\n",
        "OD =pd_data.iloc[:,:-1]\n",
        "OD = spark.createDataFrame(OD)\n",
        "#This convertion is necessary for the machine learning models of Spark:\n",
        "vecAssembler = VectorAssembler(inputCols=OD.columns, outputCol=\"features\")\n",
        "OD_vector = vecAssembler.transform(OD)\n"
      ],
      "execution_count": 0,
      "outputs": []
    },
    {
      "cell_type": "code",
      "metadata": {
        "id": "TDrt1_wE3QXI",
        "colab_type": "code",
        "outputId": "fc7e7256-3345-44c3-b218-68e327a6ea7c",
        "colab": {
          "base_uri": "https://localhost:8080/",
          "height": 188
        }
      },
      "source": [
        "ND =pd_data.iloc[:,:-1]\n",
        "ND =  spark.createDataFrame(ND)\n",
        "vecAssembler_nd = VectorAssembler(inputCols=ND.columns, outputCol=\"nd_columns\")\n",
        "ND_Vector = vecAssembler_nd.transform(ND)\n",
        "\n",
        "from pyspark.ml.feature import MinMaxScaler\n",
        "#We will scale all of the columns(diagnosis is not included) and they will be stored inside the features vector\n",
        "scaler = MinMaxScaler(inputCol=\"nd_columns\", outputCol=\"features\")\n",
        "# rescale each feature to range [min, max].\n",
        "ND_scaled = scaler.fit(ND_Vector).transform(ND_Vector)\n",
        "ND_scaled.show(3)\n"
      ],
      "execution_count": 16,
      "outputs": [
        {
          "output_type": "stream",
          "text": [
            "+-----------+------------+---------------+----------------+--------------+-------------+----------------------+---------+----------+-------+-------------+--------------+------------+-----------------+-----------+--------------------+----------------+-----------------+---------------+--------------------+--------------+-----------------------+--------------------+--------------------+\n",
            "|radius_mean|texture_mean|smoothness_mean|compactness_mean|concavity_mean|symmetry_mean|fractal_dimension_mean|radius_se|texture_se|area_se|smoothness_se|compactness_se|concavity_se|concave points_se|symmetry_se|fractal_dimension_se|smoothness_worst|compactness_worst|concavity_worst|concave points_worst|symmetry_worst|fractal_dimension_worst|          nd_columns|            features|\n",
            "+-----------+------------+---------------+----------------+--------------+-------------+----------------------+---------+----------+-------+-------------+--------------+------------+-----------------+-----------+--------------------+----------------+-----------------+---------------+--------------------+--------------+-----------------------+--------------------+--------------------+\n",
            "|      17.99|       10.38|         0.1184|          0.2776|        0.3001|       0.2419|               0.07871|    1.095|    0.9053|  153.4|     0.006399|       0.04904|     0.05373|          0.01587|    0.03003|            0.006193|          0.1622|           0.6656|         0.7119|              0.2654|        0.4601|                 0.1189|[17.99,10.38,0.11...|[0.52103743669837...|\n",
            "|      20.57|       17.77|        0.08474|         0.07864|        0.0869|       0.1812|               0.05667|   0.5435|    0.7339|  74.08|     0.005225|       0.01308|      0.0186|           0.0134|    0.01389|            0.003532|          0.1238|           0.1866|         0.2416|               0.186|         0.275|                0.08902|[20.57,17.77,0.08...|[0.64314449335037...|\n",
            "|      19.69|       21.25|         0.1096|          0.1599|        0.1974|       0.2069|               0.05999|   0.7456|    0.7869|  94.03|      0.00615|       0.04006|     0.03832|          0.02058|     0.0225|            0.004571|          0.1444|           0.4245|         0.4504|               0.243|        0.3613|                0.08758|[19.69,21.25,0.10...|[0.60149557480240...|\n",
            "+-----------+------------+---------------+----------------+--------------+-------------+----------------------+---------+----------+-------+-------------+--------------+------------+-----------------+-----------+--------------------+----------------+-----------------+---------------+--------------------+--------------+-----------------------+--------------------+--------------------+\n",
            "only showing top 3 rows\n",
            "\n"
          ],
          "name": "stdout"
        }
      ]
    },
    {
      "cell_type": "markdown",
      "metadata": {
        "id": "3mXA2EPJLVGi",
        "colab_type": "text"
      },
      "source": [
        "Before the clustering, lets see the original distribution of the diagnosis values (by using different features)"
      ]
    },
    {
      "cell_type": "code",
      "metadata": {
        "id": "9jcIlxs6GJNV",
        "colab_type": "code",
        "outputId": "535a3d5b-3b6a-4fb1-8903-3ea737050a1a",
        "colab": {
          "base_uri": "https://localhost:8080/",
          "height": 545
        }
      },
      "source": [
        "import seaborn as sns\n",
        "#Since it is not possible to use sns visualization with spark data frame, i have used converted dataFrame(pd_data)\n",
        "sns.set_style('dark')\n",
        "sns.lmplot('compactness_mean','texture_mean',data=pd_data, hue='diagnosis_encoded',palette='dark',size=6,aspect=1,fit_reg=False)"
      ],
      "execution_count": 17,
      "outputs": [
        {
          "output_type": "stream",
          "text": [
            "/usr/local/lib/python3.6/dist-packages/statsmodels/tools/_testing.py:19: FutureWarning: pandas.util.testing is deprecated. Use the functions in the public API at pandas.testing instead.\n",
            "  import pandas.util.testing as tm\n",
            "/usr/local/lib/python3.6/dist-packages/seaborn/regression.py:573: UserWarning: The `size` parameter has been renamed to `height`; please update your code.\n",
            "  warnings.warn(msg, UserWarning)\n"
          ],
          "name": "stderr"
        },
        {
          "output_type": "execute_result",
          "data": {
            "text/plain": [
              "<seaborn.axisgrid.FacetGrid at 0x7f24f014a550>"
            ]
          },
          "metadata": {
            "tags": []
          },
          "execution_count": 17
        },
        {
          "output_type": "display_data",
          "data": {
            "image/png": "[encoded data removed]",
            "text/plain": [
              "<Figure size 535.375x432 with 1 Axes>"
            ]
          },
          "metadata": {
            "tags": []
          }
        }
      ]
    },
    {
      "cell_type": "code",
      "metadata": {
        "id": "3EIjHYJYGVf4",
        "colab_type": "code",
        "outputId": "1d0d8fdd-4cc0-4e99-99e2-89b68be84b75",
        "colab": {
          "base_uri": "https://localhost:8080/",
          "height": 511
        }
      },
      "source": [
        "sns.set_style('dark')\n",
        "sns.lmplot('concavity_worst','fractal_dimension_mean',data=pd_data, hue='diagnosis_encoded',palette='dark',size=6,aspect=1,fit_reg=False)"
      ],
      "execution_count": 18,
      "outputs": [
        {
          "output_type": "stream",
          "text": [
            "/usr/local/lib/python3.6/dist-packages/seaborn/regression.py:573: UserWarning: The `size` parameter has been renamed to `height`; please update your code.\n",
            "  warnings.warn(msg, UserWarning)\n"
          ],
          "name": "stderr"
        },
        {
          "output_type": "execute_result",
          "data": {
            "text/plain": [
              "<seaborn.axisgrid.FacetGrid at 0x7f24f008c898>"
            ]
          },
          "metadata": {
            "tags": []
          },
          "execution_count": 18
        },
        {
          "output_type": "display_data",
          "data": {
            "image/png": "[encoded data removed]",
            "text/plain": [
              "<Figure size 535.375x432 with 1 Axes>"
            ]
          },
          "metadata": {
            "tags": []
          }
        }
      ]
    },
    {
      "cell_type": "markdown",
      "metadata": {
        "id": "Fff2aEMv1boS",
        "colab_type": "text"
      },
      "source": [
        "## Modeling for Clustering <a class=\"anchor\" id=\"clusteringmodel\"></a>\n",
        "\n",
        "\n",
        "We are going to use KMeans model for the clustering. In the first part, we'll use original data. In the second, we will use scaled data and we will compare both of them."
      ]
    },
    {
      "cell_type": "code",
      "metadata": {
        "id": "vhrx8TS174ej",
        "colab_type": "code",
        "colab": {}
      },
      "source": [
        "from pyspark.ml.clustering import KMeans\n",
        "from pyspark.ml.evaluation import ClusteringEvaluator\n",
        "from pyspark.ml.feature import VectorAssembler\n",
        "\n",
        "#Preparing of the Kmeans model\n",
        "kmeans = KMeans().setK(2).setSeed(5)\n",
        "#Train the model:\n",
        "model = kmeans.fit(OD_vector.select(\"features\"))\n",
        "#Predictions:\n",
        "predictions = model.transform(OD_vector.select(\"features\"))"
      ],
      "execution_count": 0,
      "outputs": []
    },
    {
      "cell_type": "markdown",
      "metadata": {
        "id": "elLfcSfWL0RA",
        "colab_type": "text"
      },
      "source": [
        "Kmeans algorithm is an iterative algorithm that tries to partition the dataset into Kpre-defined distinct non-overlapping subgroups (K=2 in this case) where each data point belongs to only one group.\n",
        "\n",
        "Since we have two possibilities (M and B), we can't change the k=2 value. Model also has a seed value to determine the starting centroids of the clusters. \n",
        "I have tried different Seed values(1, 5,20,50).Starting at 5, prediction success on original data decreased as the seed grew.\n",
        "So seed=5 is our optimal value in this case."
      ]
    },
    {
      "cell_type": "code",
      "metadata": {
        "id": "-kBpKKwO09rP",
        "colab_type": "code",
        "outputId": "e0080d25-d153-4257-8aeb-0e64053e9886",
        "colab": {
          "base_uri": "https://localhost:8080/",
          "height": 50
        }
      },
      "source": [
        "#Evaluation of the KMeans Clustering with orginial data\n",
        "evaluator = ClusteringEvaluator()\n",
        "silhouette = evaluator.evaluate(predictions)\n",
        "print(\"Squared euclidean distance of the Clustering(Original Data): \" + str(silhouette))\n",
        "# Values closer to 1 indicate maximum separation.\n",
        "# Values close to zero mean the data could barely be separated. Bizimkisi 0.83 yani küme gayet iyi ayrılmış\n",
        "\n",
        "print(\"Sum of Squared Errors of the Clustering(Original Data):\" + str(model.computeCost(OD_vector.select(\"features\"))))\n",
        "\n",
        "centers_od = model.clusterCenters()"
      ],
      "execution_count": 20,
      "outputs": [
        {
          "output_type": "stream",
          "text": [
            "Squared euclidean distance of the Clustering(Original Data): 0.8372999674818394\n",
            "Sum of Squared Errors of the Clustering(Original Data):551979.0504627795\n"
          ],
          "name": "stdout"
        }
      ]
    },
    {
      "cell_type": "markdown",
      "metadata": {
        "id": "E5eLlY8IyS7a",
        "colab_type": "text"
      },
      "source": [
        "Sum of Squared Error is too big for now\n",
        "We can reduce this error measure by increasing  number of clusters.Since we have two different options(M,B), we can't change number of clusters(k)\n"
      ]
    },
    {
      "cell_type": "code",
      "metadata": {
        "id": "Y-LMkOqfsGpL",
        "colab_type": "code",
        "outputId": "31f6ed06-72fb-45ae-c80d-c819deea614d",
        "colab": {
          "base_uri": "https://localhost:8080/",
          "height": 136
        }
      },
      "source": [
        "\n",
        "#Since there is no crosstab in the Spark dataframe, we converted it to pandas dataframe and created a cross table to see the results better.\n",
        "prediction_OD= predictions.select(\"prediction\").toPandas()\n",
        "crosstab = pd.crosstab(prediction_OD['prediction'], pd_data['diagnosis_encoded'])\n",
        "crosstab"
      ],
      "execution_count": 21,
      "outputs": [
        {
          "output_type": "execute_result",
          "data": {
            "text/html": [
              "<div>\n",
              "<style scoped>\n",
              "    .dataframe tbody tr th:only-of-type {\n",
              "        vertical-align: middle;\n",
              "    }\n",
              "\n",
              "    .dataframe tbody tr th {\n",
              "        vertical-align: top;\n",
              "    }\n",
              "\n",
              "    .dataframe thead th {\n",
              "        text-align: right;\n",
              "    }\n",
              "</style>\n",
              "<table border=\"1\" class=\"dataframe\">\n",
              "  <thead>\n",
              "    <tr style=\"text-align: right;\">\n",
              "      <th>diagnosis_encoded</th>\n",
              "      <th>0.0</th>\n",
              "      <th>1.0</th>\n",
              "    </tr>\n",
              "    <tr>\n",
              "      <th>prediction</th>\n",
              "      <th></th>\n",
              "      <th></th>\n",
              "    </tr>\n",
              "  </thead>\n",
              "  <tbody>\n",
              "    <tr>\n",
              "      <th>0</th>\n",
              "      <td>356</td>\n",
              "      <td>137</td>\n",
              "    </tr>\n",
              "    <tr>\n",
              "      <th>1</th>\n",
              "      <td>1</td>\n",
              "      <td>75</td>\n",
              "    </tr>\n",
              "  </tbody>\n",
              "</table>\n",
              "</div>"
            ],
            "text/plain": [
              "diagnosis_encoded  0.0  1.0\n",
              "prediction                 \n",
              "0                  356  137\n",
              "1                    1   75"
            ]
          },
          "metadata": {
            "tags": []
          },
          "execution_count": 21
        }
      ]
    },
    {
      "cell_type": "markdown",
      "metadata": {
        "id": "8lIiMBuEFaQx",
        "colab_type": "text"
      },
      "source": [
        "As can be seen, 356 + 75 = 431 points were clustered correctly, while 138 were clustered incorrectly(seed=5)\n",
        "\n"
      ]
    },
    {
      "cell_type": "code",
      "metadata": {
        "id": "F_oKHd3wFYtV",
        "colab_type": "code",
        "colab": {}
      },
      "source": [
        ""
      ],
      "execution_count": 0,
      "outputs": []
    },
    {
      "cell_type": "markdown",
      "metadata": {
        "id": "6C-MCCl01iRF",
        "colab_type": "text"
      },
      "source": [
        "## **Clustering with Normalized Data **"
      ]
    },
    {
      "cell_type": "code",
      "metadata": {
        "id": "piiOF8Dr1m3O",
        "colab_type": "code",
        "colab": {}
      },
      "source": [
        "from pyspark.ml.clustering import KMeans\n",
        "from pyspark.ml.evaluation import ClusteringEvaluator\n",
        "from pyspark.ml.feature import VectorAssembler\n",
        "\n",
        "##Preparing of the Kmeans model\n",
        "\n",
        "kmeans = KMeans().setK(2).setSeed(5) \n",
        "#Training of the model\n",
        "modelNd = kmeans.fit(ND_scaled.select(\"features\"))\n",
        "#Predictions\n",
        "predictionsNd = modelNd.transform(ND_scaled.select(\"features\"))\n"
      ],
      "execution_count": 0,
      "outputs": []
    },
    {
      "cell_type": "code",
      "metadata": {
        "id": "CDcsqBqK16HG",
        "colab_type": "code",
        "outputId": "6eca709e-2620-41c6-8303-16aef9894773",
        "colab": {
          "base_uri": "https://localhost:8080/",
          "height": 50
        }
      },
      "source": [
        "evaluatorNd = ClusteringEvaluator()\n",
        "print(\"Squared euclidean distance of Normalized Data = \" + str(evaluatorNd.evaluate(predictionsNd)))\n",
        "\n",
        "print(\"Sum of Squared Errors: \" + str(modelNd.computeCost(ND_scaled.select(\"features\"))))\n",
        "\n",
        "centersNd = modelNd.clusterCenters()"
      ],
      "execution_count": 23,
      "outputs": [
        {
          "output_type": "stream",
          "text": [
            "Squared euclidean distance of Normalized Data = 0.5339246587071319\n",
            "Sum of Squared Errors: 154.7760611531514\n"
          ],
          "name": "stdout"
        }
      ]
    },
    {
      "cell_type": "markdown",
      "metadata": {
        "id": "4J2KYHbSzOa9",
        "colab_type": "text"
      },
      "source": [
        "SEDN= Values closer to 1 indicate maximum separation. Values close to zero mean the data could barely be separated.\n",
        "\n",
        "Since the data was scaled, it became closer to each other. For this reason, the SEDN value, which was 0.84 in the original data, decreased to 0.53 with scaled data.\n",
        "\n",
        "\n",
        "The total of the square of errors decreased for the same reason. Since scaled data is better for these models, the total of the square of errors has also decreased compared to the above model"
      ]
    },
    {
      "cell_type": "code",
      "metadata": {
        "id": "vU7Mbnp42gKW",
        "colab_type": "code",
        "outputId": "2353afa0-73c1-46eb-d688-d750d987eeaf",
        "colab": {
          "base_uri": "https://localhost:8080/",
          "height": 136
        }
      },
      "source": [
        "pd_prediction_ND= predictionsNd.select(\"prediction\").toPandas()\n",
        "crosstab = pd.crosstab(pd_prediction_ND['prediction'], pd_data['diagnosis_encoded'])\n",
        "crosstab"
      ],
      "execution_count": 24,
      "outputs": [
        {
          "output_type": "execute_result",
          "data": {
            "text/html": [
              "<div>\n",
              "<style scoped>\n",
              "    .dataframe tbody tr th:only-of-type {\n",
              "        vertical-align: middle;\n",
              "    }\n",
              "\n",
              "    .dataframe tbody tr th {\n",
              "        vertical-align: top;\n",
              "    }\n",
              "\n",
              "    .dataframe thead th {\n",
              "        text-align: right;\n",
              "    }\n",
              "</style>\n",
              "<table border=\"1\" class=\"dataframe\">\n",
              "  <thead>\n",
              "    <tr style=\"text-align: right;\">\n",
              "      <th>diagnosis_encoded</th>\n",
              "      <th>0.0</th>\n",
              "      <th>1.0</th>\n",
              "    </tr>\n",
              "    <tr>\n",
              "      <th>prediction</th>\n",
              "      <th></th>\n",
              "      <th></th>\n",
              "    </tr>\n",
              "  </thead>\n",
              "  <tbody>\n",
              "    <tr>\n",
              "      <th>0</th>\n",
              "      <td>332</td>\n",
              "      <td>42</td>\n",
              "    </tr>\n",
              "    <tr>\n",
              "      <th>1</th>\n",
              "      <td>25</td>\n",
              "      <td>170</td>\n",
              "    </tr>\n",
              "  </tbody>\n",
              "</table>\n",
              "</div>"
            ],
            "text/plain": [
              "diagnosis_encoded  0.0  1.0\n",
              "prediction                 \n",
              "0                  332   42\n",
              "1                   25  170"
            ]
          },
          "metadata": {
            "tags": []
          },
          "execution_count": 24
        }
      ]
    },
    {
      "cell_type": "markdown",
      "metadata": {
        "id": "1CS3rdi50OXy",
        "colab_type": "text"
      },
      "source": [
        "332 + 170 = 502 (Number Of correct predictions)\n",
        "\n",
        "Since we use scaled data, number of false predictions(42+25) has decreased(It was 139 for the original data). It means that scaled data increased the success rate of the model"
      ]
    },
    {
      "cell_type": "markdown",
      "metadata": {
        "id": "B5jWMh5Sa8Ut",
        "colab_type": "text"
      },
      "source": [
        "## Clustering results<a class=\"anchor\" id=\"clustering\"></a>"
      ]
    },
    {
      "cell_type": "code",
      "metadata": {
        "id": "98tcUb6abBpr",
        "colab_type": "code",
        "outputId": "5f60b322-073d-453e-f38e-0d744474cbbc",
        "colab": {
          "base_uri": "https://localhost:8080/",
          "height": 854
        }
      },
      "source": [
        "\n",
        "plt.scatter(pd_data.iloc[:, 0], pd_data.iloc[:, 1], c=pd_data.iloc[:, -1], s=100, cmap='summer')\n",
        "plt.title(\"Real Distribution\")\n",
        "plt.xlabel(\"radius_mean\")\n",
        "plt.ylabel(\"texture_mean\")\n",
        "plt.show()\n",
        "\n",
        "\n",
        "plt.scatter(pd_data.iloc[:, 0], pd_data.iloc[:, 1], c=prediction_OD.iloc[:,0], s=100, cmap='summer')\n",
        "plt.title(\"Clustered with Original Data\")\n",
        "plt.xlabel(\"radius_mean\")\n",
        "plt.ylabel(\"texture_mean\")\n",
        "plt.show()\n",
        "\n",
        "\n",
        "\n",
        "plt.scatter(pd_data.iloc[:, 0], pd_data.iloc[:, 1], c=pd_prediction_ND.iloc[:,0], s=100, cmap='summer')\n",
        "plt.title(\"Clustered with Normalized Data\")\n",
        "plt.xlabel(\"radius_mean\")\n",
        "plt.ylabel(\"texture_mean\")\n",
        "plt.show()"
      ],
      "execution_count": 25,
      "outputs": [
        {
          "output_type": "display_data",
          "data": {
            "image/png": "[encoded data removed]",
            "text/plain": [
              "<Figure size 432x288 with 1 Axes>"
            ]
          },
          "metadata": {
            "tags": []
          }
        },
        {
          "output_type": "display_data",
          "data": {
            "image/png": "[encoded data removed]",
            "text/plain": [
              "<Figure size 432x288 with 1 Axes>"
            ]
          },
          "metadata": {
            "tags": []
          }
        },
        {
          "output_type": "display_data",
          "data": {
            "image/png": "[encoded data removed]",
            "text/plain": [
              "<Figure size 432x288 with 1 Axes>"
            ]
          },
          "metadata": {
            "tags": []
          }
        }
      ]
    },
    {
      "cell_type": "code",
      "metadata": {
        "id": "MiLcDy762-qC",
        "colab_type": "code",
        "outputId": "d88c09f8-f2d7-44d3-aac9-99987e24d36b",
        "colab": {
          "base_uri": "https://localhost:8080/",
          "height": 854
        }
      },
      "source": [
        "plt.scatter(pd_data.iloc[:, 3], pd_data.iloc[:, 4], c=pd_data.iloc[:, -1], s=100, cmap='Wistia')\n",
        "plt.title(\"Real Distribution\")\n",
        "plt.xlabel(\"compactness_mean\")\n",
        "plt.ylabel(\"concavity_mean\")\n",
        "plt.show()\n",
        "\n",
        "\n",
        "plt.scatter(pd_data.iloc[:, 3], pd_data.iloc[:, 4], c=prediction_OD.iloc[:,0], s=100, cmap='Wistia')\n",
        "plt.title(\"Clustered with Original Data\")\n",
        "plt.xlabel(\"compactness_mean\")\n",
        "plt.ylabel(\"concavity_mean\")\n",
        "plt.show()\n",
        "\n",
        "\n",
        "\n",
        "plt.scatter(pd_data.iloc[:, 3], pd_data.iloc[:, 4], c=pd_prediction_ND.iloc[:,0], s=100, cmap='Wistia')\n",
        "plt.title(\"Clustered with Normalized Data\")\n",
        "plt.xlabel(\"compactness_mean\")\n",
        "plt.ylabel(\"concavity_mean\")\n",
        "plt.show()\n"
      ],
      "execution_count": 26,
      "outputs": [
        {
          "output_type": "display_data",
          "data": {
            "image/png": "[encoded data removed]",
            "text/plain": [
              "<Figure size 432x288 with 1 Axes>"
            ]
          },
          "metadata": {
            "tags": []
          }
        },
        {
          "output_type": "display_data",
          "data": {
            "image/png": "[encoded data removed]",
            "text/plain": [
              "<Figure size 432x288 with 1 Axes>"
            ]
          },
          "metadata": {
            "tags": []
          }
        },
        {
          "output_type": "display_data",
          "data": {
            "image/png": "[encoded data removed]",
            "text/plain": [
              "<Figure size 432x288 with 1 Axes>"
            ]
          },
          "metadata": {
            "tags": []
          }
        }
      ]
    },
    {
      "cell_type": "code",
      "metadata": {
        "id": "Q2F9NFVE1vTv",
        "colab_type": "code",
        "colab": {}
      },
      "source": [
        ""
      ],
      "execution_count": 0,
      "outputs": []
    },
    {
      "cell_type": "markdown",
      "metadata": {
        "colab_type": "text",
        "id": "Z535tPyatFji"
      },
      "source": [
        "\n",
        "## Modeling for Classification <a class=\"anchor\" id=\"classificationmodel\"></a>"
      ]
    },
    {
      "cell_type": "markdown",
      "metadata": {
        "id": "d8Bz9k24833J",
        "colab_type": "text"
      },
      "source": [
        "I am going to use Gradient Boosted Trees for the classificiation.\n",
        "We will use both original and scaled data.After all, we will compare both situation\n",
        "GBTs iteratively train decision trees in order to minimize a loss function (we will use 10 trees for each application)"
      ]
    },
    {
      "cell_type": "code",
      "metadata": {
        "colab_type": "code",
        "id": "KPBke47AtFjy",
        "colab": {}
      },
      "source": [
        "#We have work with vectors.So we will create an features vector by using all columns (not diagnosis_encoded):\n",
        "vecAssembler = VectorAssembler(inputCols=[i for i in data.columns if i!=\"diagnosis_encoded\"], outputCol=\"features\")\n",
        "data_vector = vecAssembler.transform(data)\n",
        "\n",
        "#Since we have created an features vector column, we don't need seperate feature columns.So all we need are features and diagnosis columns\n",
        "droppedColumns = [str(i) for i in data_vector.columns if i not in [\"diagnosis_encoded\",\"features\"]]\n",
        "data_vector = data_vector.drop(*droppedColumns)"
      ],
      "execution_count": 0,
      "outputs": []
    },
    {
      "cell_type": "code",
      "metadata": {
        "colab_type": "code",
        "outputId": "fe6f185f-8be7-41c1-852c-9d25a7d1ce97",
        "id": "AE050svOtFj3",
        "colab": {
          "base_uri": "https://localhost:8080/",
          "height": 202
        }
      },
      "source": [
        "data_vector = data_vector.select(data_vector.features,data_vector.diagnosis_encoded)\n",
        "#Our Original Dataframe is ready:\n",
        "original_Data_vec = data_vector.select(data_vector.features,data_vector.diagnosis_encoded)\n",
        "\n",
        "original_Data_vec.show(5)"
      ],
      "execution_count": 28,
      "outputs": [
        {
          "output_type": "stream",
          "text": [
            "+--------------------+-----------------+\n",
            "|            features|diagnosis_encoded|\n",
            "+--------------------+-----------------+\n",
            "|[17.99,10.38,0.11...|              1.0|\n",
            "|[20.57,17.77,0.08...|              1.0|\n",
            "|[19.69,21.25,0.10...|              1.0|\n",
            "|[11.42,20.38,0.14...|              1.0|\n",
            "|[20.29,14.34,0.10...|              1.0|\n",
            "+--------------------+-----------------+\n",
            "only showing top 5 rows\n",
            "\n"
          ],
          "name": "stdout"
        }
      ]
    },
    {
      "cell_type": "code",
      "metadata": {
        "colab_type": "code",
        "id": "WD6cFrc-tFj9",
        "colab": {}
      },
      "source": [
        "from pyspark.ml import Pipeline\n",
        "from pyspark.ml.classification import GBTClassifier\n",
        "from pyspark.ml.feature import StringIndexer, VectorIndexer\n",
        "from pyspark.ml.evaluation import MulticlassClassificationEvaluator\n",
        "\n",
        "#We should specify the diagnosis and features columns before the preparation of the model\n",
        "labelIndexer = StringIndexer(inputCol=\"diagnosis_encoded\", outputCol=\"indexedLabel\").fit(original_Data_vec)\n",
        "featureIndexer =VectorIndexer(inputCol=\"features\", outputCol=\"indexedFeatures\").fit(original_Data_vec)"
      ],
      "execution_count": 0,
      "outputs": []
    },
    {
      "cell_type": "code",
      "metadata": {
        "colab_type": "code",
        "id": "Wl0mmxLqtFkC",
        "colab": {}
      },
      "source": [
        "(trainingData, testData) = original_Data_vec.randomSplit([0.7, 0.3],seed=100)\n",
        "#We split the dataframe into two(training and test datasets)"
      ],
      "execution_count": 0,
      "outputs": []
    },
    {
      "cell_type": "markdown",
      "metadata": {
        "id": "v1QB_OVgazrb",
        "colab_type": "text"
      },
      "source": [
        "For the \"Seed\" value, we used the values of 1,25,50, 100 and 200. We reached the best result with seed = 100 (for both scaled and unscaled data)"
      ]
    },
    {
      "cell_type": "code",
      "metadata": {
        "colab_type": "code",
        "id": "DxHSl_HFtFkH",
        "colab": {}
      },
      "source": [
        "#Prepare the gbt model with 10 trees\n",
        "gbt = GBTClassifier(labelCol=\"indexedLabel\", featuresCol=\"indexedFeatures\", maxIter=100)\n",
        "pipeline = Pipeline(stages=[labelIndexer, featureIndexer, gbt])\n",
        "\n",
        "#Training and prediction:\n",
        "model = pipeline.fit(trainingData)\n",
        "org_predictions = model.transform(testData)"
      ],
      "execution_count": 0,
      "outputs": []
    },
    {
      "cell_type": "code",
      "metadata": {
        "colab_type": "code",
        "outputId": "37f908d9-ff3b-4b0a-b699-5449203186a1",
        "id": "0DvVo1vvtFkM",
        "colab": {
          "base_uri": "https://localhost:8080/",
          "height": 286
        }
      },
      "source": [
        "org_predictions.select(\"prediction\", \"indexedLabel\", \"features\").show(10)"
      ],
      "execution_count": 32,
      "outputs": [
        {
          "output_type": "stream",
          "text": [
            "+----------+------------+--------------------+\n",
            "|prediction|indexedLabel|            features|\n",
            "+----------+------------+--------------------+\n",
            "|       0.0|         0.0|[8.196,16.84,0.08...|\n",
            "|       0.0|         0.0|[8.597,18.6,0.107...|\n",
            "|       0.0|         0.0|[8.598,20.98,0.12...|\n",
            "|       0.0|         0.0|[8.618,11.79,0.09...|\n",
            "|       0.0|         0.0|[8.95,15.76,0.094...|\n",
            "|       0.0|         0.0|[9.042,18.9,0.099...|\n",
            "|       0.0|         0.0|[9.173,13.86,0.07...|\n",
            "|       0.0|         0.0|[9.295,13.9,0.137...|\n",
            "|       0.0|         0.0|[9.423,27.88,0.08...|\n",
            "|       0.0|         0.0|[9.436,18.32,0.10...|\n",
            "+----------+------------+--------------------+\n",
            "only showing top 10 rows\n",
            "\n"
          ],
          "name": "stdout"
        }
      ]
    },
    {
      "cell_type": "code",
      "metadata": {
        "colab_type": "code",
        "outputId": "1022684d-cc92-4bd8-e837-8b8e2b85cce6",
        "id": "KFNQdqJltFkS",
        "colab": {
          "base_uri": "https://localhost:8080/",
          "height": 34
        }
      },
      "source": [
        "#Evaluation of the model\n",
        "evaluator = MulticlassClassificationEvaluator(labelCol=\"indexedLabel\", predictionCol=\"prediction\", metricName=\"accuracy\")\n",
        "org_accuracy = evaluator.evaluate(org_predictions)\n",
        "print(\"Classification Accuracy with Original Data: \", org_accuracy)"
      ],
      "execution_count": 33,
      "outputs": [
        {
          "output_type": "stream",
          "text": [
            "Classification Accuracy with Original Data:  0.935672514619883\n"
          ],
          "name": "stdout"
        }
      ]
    },
    {
      "cell_type": "markdown",
      "metadata": {
        "id": "D_d2zZ5kbt6W",
        "colab_type": "text"
      },
      "source": [
        ""
      ]
    },
    {
      "cell_type": "markdown",
      "metadata": {
        "id": "WPeKguOBbuFx",
        "colab_type": "text"
      },
      "source": [
        "We have tried different values for the number of trees (maxIter).Here is the accuracy rates of the different maxIter values:\n",
        "\n",
        "with 1 tree = 0.906\n",
        "\n",
        "with 5 trees = 0.906\n",
        "\n",
        "with 10 trees = 0.918\n",
        "\n",
        "with 20 trees = 0.918\n",
        "\n",
        "with 100 trees= 0.935\n",
        "\n",
        "After all, i decided to use 100 trees. 100 trees take too much time to compile but it gave the best result so far. (not the best accuracy but the best accuracy/time)\n",
        "Since it takes too much time to use/compile +100 trees, i don't go forward for the maxIter."
      ]
    },
    {
      "cell_type": "markdown",
      "metadata": {
        "colab_type": "text",
        "id": "c_FgrrCTtFkX"
      },
      "source": [
        "#Classification with scaled data"
      ]
    },
    {
      "cell_type": "code",
      "metadata": {
        "colab_type": "code",
        "id": "OZuwsFsttFkY",
        "colab": {}
      },
      "source": [
        "(trainingData2, testData2) = data_vector.randomSplit([0.7, 0.3],seed=10)"
      ],
      "execution_count": 0,
      "outputs": []
    },
    {
      "cell_type": "markdown",
      "metadata": {
        "id": "zcJKW--yOgx_",
        "colab_type": "text"
      },
      "source": [
        "We split the data into two. With the help of seed=100 parameter,\n",
        "we will seperate the data just like original data(original data).So order of the datasets will be. "
      ]
    },
    {
      "cell_type": "markdown",
      "metadata": {
        "id": "AjAgSOV6_Exk",
        "colab_type": "text"
      },
      "source": [
        "One important note is that, i have applied the normalization process after split the data set as train and test.\n",
        "Here is the scaling part:"
      ]
    },
    {
      "cell_type": "code",
      "metadata": {
        "colab_type": "code",
        "id": "ZkCwrjGCtFkd",
        "colab": {}
      },
      "source": [
        "#Features column will be scaled and store into \"scaled_features\" column\n",
        "classify_scaler = MinMaxScaler(inputCol=\"features\", outputCol=\"scaled_features\")\n",
        "# rescale each feature to range [min, max].\n",
        "\n",
        "scaled_trainingData2 = classify_scaler.fit(trainingData2).transform(trainingData2)\n",
        "scaled_testData2 = classify_scaler.fit(testData2).transform(testData2)\n",
        "\n",
        "#I have changed to place of the features and diagnosis:\n",
        "scaled_trainingData2 = scaled_trainingData2.select(scaled_trainingData2.scaled_features,scaled_trainingData2.diagnosis_encoded)\n",
        "scaled_testData2 = scaled_testData2.select(scaled_testData2.scaled_features,scaled_testData2.diagnosis_encoded)\n"
      ],
      "execution_count": 0,
      "outputs": []
    },
    {
      "cell_type": "code",
      "metadata": {
        "colab_type": "code",
        "id": "d-KIAVv3tFkm",
        "colab": {}
      },
      "source": [
        "#We should specify the diagnosis and features columns before the preparation of the model\n",
        "labelIndexer = StringIndexer(inputCol=\"diagnosis_encoded\", outputCol=\"indexedLabel\").fit(scaled_trainingData2)\n",
        "featureIndexer =VectorIndexer(inputCol=\"scaled_features\", outputCol=\"indexed_Scaled_Features\").fit(scaled_trainingData2)"
      ],
      "execution_count": 0,
      "outputs": []
    },
    {
      "cell_type": "code",
      "metadata": {
        "colab_type": "code",
        "id": "qiZGHKbZtFkr",
        "colab": {}
      },
      "source": [
        "#Preparation of the model and pipeline:\n",
        "gbt = GBTClassifier(labelCol=\"indexedLabel\", featuresCol=\"indexed_Scaled_Features\", maxIter=100)\n",
        "pipeline = Pipeline(stages=[labelIndexer, featureIndexer, gbt])\n",
        "\n",
        "#Training and prediction\n",
        "model = pipeline.fit(scaled_trainingData2)\n",
        "\n",
        "scaled_predictions = model.transform(scaled_testData2)"
      ],
      "execution_count": 0,
      "outputs": []
    },
    {
      "cell_type": "code",
      "metadata": {
        "colab_type": "code",
        "outputId": "6c835454-95d6-4c9b-890a-50e3f772a6dd",
        "id": "wcEL_fQjtFkv",
        "colab": {
          "base_uri": "https://localhost:8080/",
          "height": 34
        }
      },
      "source": [
        "#Evaluation of the model:\n",
        "\n",
        "evaluator = MulticlassClassificationEvaluator(labelCol=\"indexedLabel\", predictionCol=\"prediction\", metricName=\"accuracy\")\n",
        "sc_accuracy = evaluator.evaluate(scaled_predictions)\n",
        "print(\"Classification Accuracy with Normalized Data: \", sc_accuracy)\n"
      ],
      "execution_count": 38,
      "outputs": [
        {
          "output_type": "stream",
          "text": [
            "Classification Accuracy with Normalized Data:  0.9473684210526315\n"
          ],
          "name": "stdout"
        }
      ]
    },
    {
      "cell_type": "markdown",
      "metadata": {
        "id": "0ATiN9ZVAQ3L",
        "colab_type": "text"
      },
      "source": [
        "# Evaluation"
      ]
    },
    {
      "cell_type": "code",
      "metadata": {
        "id": "jxfk7P1WAlnf",
        "colab_type": "code",
        "outputId": "c6bc4497-5959-4330-ea0f-14f942f72c07",
        "colab": {
          "base_uri": "https://localhost:8080/",
          "height": 50
        }
      },
      "source": [
        "print(\"Classification Accuracy with Original Data: \", org_accuracy)\n",
        "print(\"Classification Accuracy with Scaled Data: \", sc_accuracy)\n"
      ],
      "execution_count": 39,
      "outputs": [
        {
          "output_type": "stream",
          "text": [
            "Classification Accuracy with Original Data:  0.935672514619883\n",
            "Classification Accuracy with Scaled Data:  0.9473684210526315\n"
          ],
          "name": "stdout"
        }
      ]
    },
    {
      "cell_type": "markdown",
      "metadata": {
        "id": "wZSQjnFMZl11",
        "colab_type": "text"
      },
      "source": [
        "Although there is no serious difference, we see that the model working with scaled data gives slightly better results.\n",
        "The extreme values in the data set are placed in a certain range thanks to scaling. This causes the modeling to give successful results in extreme values."
      ]
    },
    {
      "cell_type": "code",
      "metadata": {
        "id": "awBNlOpAXZDp",
        "colab_type": "code",
        "outputId": "e5ce76b5-8dfe-43ba-8a3e-d118d97fb79c",
        "colab": {
          "base_uri": "https://localhost:8080/",
          "height": 470
        }
      },
      "source": [
        "print(\"Predictions with Original Data\")\n",
        "org_predictions.select(\"prediction\", \"indexedLabel\", \"features\").show(20)"
      ],
      "execution_count": 40,
      "outputs": [
        {
          "output_type": "stream",
          "text": [
            "Predictions with Original Data\n",
            "+----------+------------+--------------------+\n",
            "|prediction|indexedLabel|            features|\n",
            "+----------+------------+--------------------+\n",
            "|       0.0|         0.0|[8.196,16.84,0.08...|\n",
            "|       0.0|         0.0|[8.597,18.6,0.107...|\n",
            "|       0.0|         0.0|[8.598,20.98,0.12...|\n",
            "|       0.0|         0.0|[8.618,11.79,0.09...|\n",
            "|       0.0|         0.0|[8.95,15.76,0.094...|\n",
            "|       0.0|         0.0|[9.042,18.9,0.099...|\n",
            "|       0.0|         0.0|[9.173,13.86,0.07...|\n",
            "|       0.0|         0.0|[9.295,13.9,0.137...|\n",
            "|       0.0|         0.0|[9.423,27.88,0.08...|\n",
            "|       0.0|         0.0|[9.436,18.32,0.10...|\n",
            "|       0.0|         0.0|[9.676,13.14,0.12...|\n",
            "|       0.0|         0.0|[9.683,19.34,0.08...|\n",
            "|       0.0|         0.0|[9.72,18.22,0.069...|\n",
            "|       0.0|         0.0|[9.755,28.2,0.079...|\n",
            "|       0.0|         0.0|[9.787,19.94,0.10...|\n",
            "|       0.0|         0.0|[9.876,19.4,0.100...|\n",
            "|       0.0|         0.0|[10.08,15.11,0.09...|\n",
            "|       0.0|         0.0|[10.18,17.53,0.10...|\n",
            "|       0.0|         0.0|[10.26,16.58,0.08...|\n",
            "|       0.0|         0.0|[10.32,16.35,0.09...|\n",
            "+----------+------------+--------------------+\n",
            "only showing top 20 rows\n",
            "\n"
          ],
          "name": "stdout"
        }
      ]
    },
    {
      "cell_type": "code",
      "metadata": {
        "id": "YhY9TkQ-XfbJ",
        "colab_type": "code",
        "outputId": "9d9448ca-a689-4867-a784-912b1bb0eee5",
        "colab": {
          "base_uri": "https://localhost:8080/",
          "height": 470
        }
      },
      "source": [
        "print(\"Predictions with Scaled Data\")\n",
        "scaled_predictions.select(\"prediction\", \"indexedLabel\", \"indexed_Scaled_Features\").show(20)"
      ],
      "execution_count": 41,
      "outputs": [
        {
          "output_type": "stream",
          "text": [
            "Predictions with Scaled Data\n",
            "+----------+------------+-----------------------+\n",
            "|prediction|indexedLabel|indexed_Scaled_Features|\n",
            "+----------+------------+-----------------------+\n",
            "|       0.0|         0.0|   [0.0,0.7930489731...|\n",
            "|       0.0|         0.0|   [0.00186101180273...|\n",
            "|       0.0|         0.0|   [0.04441941329154...|\n",
            "|       0.0|         0.0|   [0.04539889318771...|\n",
            "|       0.0|         0.0|   [0.05813213183799...|\n",
            "|       0.0|         0.0|   [0.08041529947597...|\n",
            "|       0.0|         0.0|   [0.08545962094128...|\n",
            "|       0.0|         0.0|   [0.08687986679073...|\n",
            "|       0.0|         0.0|   [0.09378520005876...|\n",
            "|       0.0|         0.0|   [0.09677261374210...|\n",
            "|       0.0|         0.0|   [0.09755619765904...|\n",
            "|       0.0|         0.0|   [0.10044566335275...|\n",
            "|       0.0|         0.0|   [0.10264949311915...|\n",
            "|       0.0|         0.0|   [0.10558793280767...|\n",
            "|       0.0|         0.0|   [0.10837945051177...|\n",
            "|       0.0|         0.0|   [0.11455017385768...|\n",
            "|       0.0|         0.0|   [0.11552965375385...|\n",
            "|       0.0|         0.0|   [0.11699887359811...|\n",
            "|       0.0|         0.0|   [0.12140653313090...|\n",
            "|       0.0|         0.0|   [0.12875263235222...|\n",
            "+----------+------------+-----------------------+\n",
            "only showing top 20 rows\n",
            "\n"
          ],
          "name": "stdout"
        }
      ]
    },
    {
      "cell_type": "markdown",
      "metadata": {
        "id": "MpMjo4VLXYIG",
        "colab_type": "text"
      },
      "source": [
        "We see that the classification algorithm, which uses 70% of the data as a train set, gives successful results. Unlike clustering, it does not make a significant difference between the use of original data and scaled data. We can say that the most important reason for this is the type of classification model used.\n",
        "\n",
        " Gradient Boosted Trees creates tree structures. Therefore, unlike Clustering algorithms, distance does not matter. It reaches the result by creating decision trees directly from the values.\n",
        "Therefore, scaling in unsupervised learning models significantly increases success, while it does not provide a significant increase in supervised learning models.\n",
        "\n",
        "However, since it softens the extreme values of the dataset, it allows us to get a little better results in classification models."
      ]
    },
    {
      "cell_type": "markdown",
      "metadata": {
        "id": "yRecQZ6Q7UWP",
        "colab_type": "text"
      },
      "source": [
        "## References<a class=\"anchor\" id=\"references\"></a>"
      ]
    },
    {
      "cell_type": "markdown",
      "metadata": {
        "id": "UhZJfFnZ8Ttl",
        "colab_type": "text"
      },
      "source": [
        "• https://github.com/aucan/DataScienceTutorials\n",
        "\n",
        "• https://github.com/tirthajyoti/Spark-with-Python\n",
        "\n",
        "• https://www.datacamp.com/community/tutorialsapache-spark-tutorialmachine-learning\n",
        "\n",
        "• http://spark.apache.org/docs/latest/api/python/pyspark.ml.html\n",
        "\n",
        "• https://runawayhorse001.github.io/LearningApacheSpark/classification.html\n",
        "\n",
        "• https://gist.github.com/cameres/bc24ac6711c9e537dd20be47b2a83558\n",
        "\n",
        "• https://spark.apache.org/docs/latest/ml-classification-regression.html\n"
      ]
    },
    {
      "cell_type": "code",
      "metadata": {
        "id": "zzamKKlm8hgE",
        "colab_type": "code",
        "colab": {}
      },
      "source": [
        ""
      ],
      "execution_count": 0,
      "outputs": []
    }
  ]
}